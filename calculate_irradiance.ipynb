{
 "cells": [
  {
   "cell_type": "code",
   "execution_count": 2,
   "metadata": {},
   "outputs": [],
   "source": [
    "import numpy as np"
   ]
  },
  {
   "cell_type": "code",
   "execution_count": 1,
   "metadata": {},
   "outputs": [],
   "source": [
    "angle_map_path = \"./out/build/angle_map.dat\"\n",
    "point_grid_path = \"./out/build/grid_points.dat\"\n",
    "index_map_path = \"./out/build/index_map.dat\"\n",
    "shadow_map_path = \"./out/build/shadow_map.dat\""
   ]
  },
  {
   "cell_type": "code",
   "execution_count": 7,
   "metadata": {},
   "outputs": [],
   "source": [
    "index_map = np.memmap(index_map_path, dtype=np.uint32, mode='r')"
   ]
  },
  {
   "cell_type": "code",
   "execution_count": 12,
   "metadata": {},
   "outputs": [],
   "source": [
    "test_data = index_map[0:10000000]"
   ]
  },
  {
   "cell_type": "code",
   "execution_count": 13,
   "metadata": {},
   "outputs": [
    {
     "data": {
      "text/plain": [
       "array([       0,  4198426,  4198427,  4199600,  4200774,  4255979,\n",
       "        4260673,  4260674,  5634256,  5635430,  5704745,  5710614,\n",
       "        7017229,  7018402,  7019576,  7030139,  7031313,  7081849,\n",
       "        7086544,  7091239,  7095923,  7098277,  8401375,  8402548,\n",
       "        8403722,  8408417,  8480071,  8481253,  8482424,  9785521,\n",
       "        9789042,  9790215,  9792563,  9793736,  9793737,  9794910,\n",
       "        9796084,  9797258,  9799605,  9800779,  9846620,  9854836,\n",
       "       11241329, 11247198, 12607858, 12607860, 12609032, 12609033,\n",
       "       12610207, 12610215, 12611380, 12611390, 12612553, 12612554,\n",
       "       12612564, 12613726, 12613728, 12613736, 12613737, 12613738,\n",
       "       12614900, 12614901, 12614909, 12614910, 12614911, 12616083,\n",
       "       12616084, 12617248, 12617249, 12617256, 12617257, 12617258,\n",
       "       12618421, 12618422, 12619594, 12619606, 12620779, 12620780,\n",
       "       12621953, 12623128, 12627823, 12632507, 12634861, 13993187,\n",
       "       13994352, 13994361, 13995527, 13995534, 13995535, 13995536,\n",
       "       13996708, 13996709, 13997882, 13997883, 13999055, 13999056,\n",
       "       14000229, 14000230, 14001403, 14001404, 14002576, 14003741,\n",
       "       14003742, 14003750, 14003751, 14003752, 14004923, 14004924,\n",
       "       14004925, 14006097, 14006098, 14007272, 14007273, 14016655,\n",
       "       14017837, 14019008, 15384368, 15384369, 15385542, 15385544,\n",
       "       15385545, 15386716, 15386718, 15387890, 15387891, 15387892,\n",
       "       15387893, 15387895, 15387896, 15389060, 15389064, 15389065,\n",
       "       15389066, 15389067, 15389069, 15390234, 15390241, 15390242,\n",
       "       15390243, 15391407, 15391413, 15392581, 15392582, 15392585,\n",
       "       15392590, 15394937, 15396102, 15396114, 15396115, 15397281,\n",
       "       15398452, 15399633, 15400805], dtype=uint32)"
      ]
     },
     "execution_count": 13,
     "metadata": {},
     "output_type": "execute_result"
    }
   ],
   "source": [
    "np.unique(test_data)"
   ]
  },
  {
   "cell_type": "code",
   "execution_count": null,
   "metadata": {},
   "outputs": [],
   "source": []
  }
 ],
 "metadata": {
  "kernelspec": {
   "display_name": "energy",
   "language": "python",
   "name": "python3"
  },
  "language_info": {
   "codemirror_mode": {
    "name": "ipython",
    "version": 3
   },
   "file_extension": ".py",
   "mimetype": "text/x-python",
   "name": "python",
   "nbconvert_exporter": "python",
   "pygments_lexer": "ipython3",
   "version": "3.9.18"
  }
 },
 "nbformat": 4,
 "nbformat_minor": 2
}
