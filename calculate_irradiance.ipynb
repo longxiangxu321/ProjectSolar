{
 "cells": [
  {
   "cell_type": "code",
   "execution_count": 2,
   "metadata": {},
   "outputs": [],
   "source": [
    "import numpy as np\n",
    "from tqdm import tqdm\n",
    "import matplotlib.pyplot as plt\n",
    "import pandas as pd"
   ]
  },
  {
   "cell_type": "code",
   "execution_count": 3,
   "metadata": {},
   "outputs": [],
   "source": [
    "point_grid_path = \"./out/build/grid_points.dat\"\n",
    "index_map_path = \"./out/build/index_map.dat\"\n",
    "shadow_map_path = \"./out/build/shadow_map.dat\"\n",
    "\n",
    "azimuth_map_path = \"./out/build/azimuth_map.dat\"\n",
    "elevation_map_path = \"./out/build/elevation_map.dat\""
   ]
  },
  {
   "cell_type": "code",
   "execution_count": 4,
   "metadata": {},
   "outputs": [],
   "source": [
    "index_map = np.memmap(index_map_path, dtype=np.uint32, mode='r')\n",
    "azimuth_map = np.memmap(azimuth_map_path, dtype=np.float16, mode='r')\n",
    "elevation_map = np.memmap(elevation_map_path, dtype=np.float16, mode='r')\n",
    "point_grid = np.loadtxt(point_grid_path)"
   ]
  },
  {
   "cell_type": "code",
   "execution_count": 5,
   "metadata": {},
   "outputs": [],
   "source": [
    "# point_grid_num = 331547\n",
    "# bbox_min = (84501.6, 445805, -3.747)\n",
    "# resolution = 2.0\n",
    "voxel_dim = (587,590,50)"
   ]
  },
  {
   "cell_type": "code",
   "execution_count": 6,
   "metadata": {},
   "outputs": [],
   "source": [
    "point_grid = point_grid[:,0:6]"
   ]
  },
  {
   "cell_type": "code",
   "execution_count": 7,
   "metadata": {},
   "outputs": [],
   "source": [
    "def integrate_voxel_info(point_grid, irradiance_vals, voxel_size = 2.0 ):\n",
    "    voxel_grid = {}\n",
    "    bbox_min = np.min(point_grid[:, :3], axis=0)\n",
    "    \n",
    "    def compute_intensity_for_face(normals, face_normal):\n",
    "        ratio = np.sum(normals @ face_normal > 0) / len(normals)\n",
    "        dot_products = normals[normals @ face_normal > 0] @ face_normal\n",
    "        if len(dot_products) > 0:\n",
    "            intensity = np.mean(dot_products) * ratio\n",
    "        else:\n",
    "            intensity = 0\n",
    "        return intensity\n",
    "    \n",
    "\n",
    "    for i in range(point_grid.shape[0]):\n",
    "        # point = point_grid[i]\n",
    "        voxel_ids = ((point_grid[i, :3] - bbox_min) / voxel_size).astype(int)\n",
    "        voxel_idx = voxel_ids[0] + voxel_ids[1] * voxel_dim[0] + voxel_ids[2] * voxel_dim[0] * voxel_dim[1]\n",
    "        if voxel_idx not in voxel_grid:\n",
    "            voxel_grid[voxel_idx] = {'normals': [], 'irradiance': 0}\n",
    "        voxel_grid[voxel_idx]['normals'].append(point_grid[i, 3:6])\n",
    "        voxel_grid[voxel_idx]['irradiance'] += irradiance_vals[i]\n",
    "\n",
    "    \n",
    "    for voxel in voxel_grid:\n",
    "        normals = np.array(voxel_grid[voxel]['normals'])\n",
    "        voxel_grid[voxel]['up_intensity'] = compute_intensity_for_face(normals, np.array([0, 0, 1]))+0.1\n",
    "        voxel_grid[voxel]['down_intensity'] = compute_intensity_for_face(normals, np.array([0, 0, -1]))+0.1\n",
    "        voxel_grid[voxel]['left_intensity'] = compute_intensity_for_face(normals, np.array([-1, 0, 0]))+0.1\n",
    "        voxel_grid[voxel]['right_intensity'] = compute_intensity_for_face(normals, np.array([1, 0, 0]))+0.1\n",
    "        voxel_grid[voxel]['front_intensity'] = compute_intensity_for_face(normals, np.array([0, 1, 0]))+0.1\n",
    "        voxel_grid[voxel]['back_intensity'] = compute_intensity_for_face(normals, np.array([0, -1, 0]))+0.1\n",
    "\n",
    "        intensity_sum = (voxel_grid[voxel]['up_intensity'] + voxel_grid[voxel]['down_intensity'] +\n",
    "                         voxel_grid[voxel]['left_intensity'] + voxel_grid[voxel]['right_intensity'] +\n",
    "                         voxel_grid[voxel]['front_intensity'] + voxel_grid[voxel]['back_intensity'])\n",
    "\n",
    "        if intensity_sum > 0:\n",
    "            for key in ['up_intensity', 'down_intensity', 'left_intensity', 'right_intensity', 'front_intensity', 'back_intensity']:\n",
    "                voxel_grid[voxel][key] /= intensity_sum\n",
    "\n",
    "    return voxel_grid\n",
    "\n",
    "\n",
    "def update_grid_point_irradiance(point_grid, voxel_grid, irradiance, index_map, azimuth_map, elevation_map, voxel_size=2.0):\n",
    "    num_points = point_grid.shape[0]\n",
    "    num_samples = 360 * 90\n",
    "    bbox_min = np.min(point_grid[:, :3], axis=0)\n",
    "\n",
    "    updated_irradiance = irradiance.copy()\n",
    "\n",
    "    for i in tqdm(range(num_points), desc=\"Processing points\"):\n",
    "        voxel_ids = ((point_grid[i, :3] - bbox_min) / voxel_size).astype(int)\n",
    "        voxel_idx = voxel_ids[0] + voxel_ids[1] * voxel_dim[0] + voxel_ids[2] * voxel_dim[0] * voxel_dim[1]\n",
    "        voxel_data = voxel_grid[voxel_idx]\n",
    "\n",
    "\n",
    "        valid_mask = index_map[i*num_samples:(i+1)*num_samples] != np.iinfo(np.uint32).max\n",
    "        azimuth_point = azimuth_map[i*num_samples:(i+1)*num_samples][valid_mask]\n",
    "        elevation_point = elevation_map[i*num_samples:(i+1)*num_samples][valid_mask]\n",
    "        \n",
    "        azimuth_valid = np.radians(azimuth_point)\n",
    "        elevation_valid = np.radians(elevation_point)\n",
    "\n",
    "        directions_x = np.cos(elevation_valid) * np.cos(azimuth_valid)\n",
    "        directions_y = np.cos(elevation_valid) * np.sin(azimuth_valid)\n",
    "        directions_z = np.sin(elevation_valid)\n",
    "\n",
    "        contributions = np.zeros(valid_mask.sum())\n",
    "        contributions += np.where(directions_x > 0, voxel_data['right_intensity'],  voxel_data['left_intensity'])\n",
    "        contributions += np.where(directions_y > 0, voxel_data['front_intensity'], voxel_data['back_intensity'])\n",
    "        contributions += np.where(directions_z > 0, voxel_data['up_intensity'], voxel_data['down_intensity'])\n",
    "        \n",
    "        updated_irradiance[i] += np.sum(contributions * voxel_data['irradiance']/num_samples * 0.1)\n",
    "\n",
    "\n",
    "    return updated_irradiance\n",
    "\n",
    "def update_voxel(voxel_grid, point_grid, irradiance_vals, voxel_size=2.0):\n",
    "    bbox_min = np.min(point_grid[:, :3], axis=0)\n",
    "    \n",
    "    for voxel in voxel_grid:\n",
    "        voxel_grid[voxel]['irradiance'] = 0\n",
    "    \n",
    "    for i in range(point_grid.shape[0]):\n",
    "        voxel_ids = ((point_grid[i, :3] - bbox_min) / voxel_size).astype(int)\n",
    "        voxel_idx = voxel_ids[0] + voxel_ids[1] * voxel_dim[0] + voxel_ids[2] * voxel_dim[0] * voxel_dim[1]\n",
    "        voxel_grid[voxel_idx]['irradiance'] += irradiance_vals[i]\n",
    "    \n",
    "    return voxel_grid\n"
   ]
  },
  {
   "cell_type": "code",
   "execution_count": 8,
   "metadata": {},
   "outputs": [],
   "source": [
    "def pd_integrate_voxel_info(point_grid, irradiance_vals, voxel_size=2.0):\n",
    "    voxel_grid = {}\n",
    "    bbox_min = np.min(point_grid[:, :3], axis=0)\n",
    "    \n",
    "    def compute_intensity_for_face(normals, face_normal):\n",
    "        ratio = np.sum(normals @ face_normal > 0) / len(normals)\n",
    "        dot_products = normals[normals @ face_normal > 0] @ face_normal\n",
    "        if len(dot_products) > 0:\n",
    "            intensity = np.mean(dot_products) * ratio\n",
    "        else:\n",
    "            intensity = 0\n",
    "        return intensity\n",
    "\n",
    "\n",
    "    for i in range(point_grid.shape[0]):\n",
    "        voxel_ids = ((point_grid[i, :3] - bbox_min) / voxel_size).astype(int)\n",
    "        voxel_idx = voxel_ids[0] + voxel_ids[1] * voxel_dim[0] + voxel_ids[2] * voxel_dim[0] * voxel_dim[1]\n",
    "        if voxel_idx not in voxel_grid:\n",
    "            voxel_grid[voxel_idx] = {'normals': [], 'irradiance': 0}\n",
    "        voxel_grid[voxel_idx]['normals'].append(point_grid[i, 3:6])\n",
    "        voxel_grid[voxel_idx]['irradiance'] += irradiance_vals[i]\n",
    "\n",
    "    data = []\n",
    "    data.append({\n",
    "        'voxel_idx': np.iinfo(np.uint32).max,\n",
    "        'irradiance': 0,\n",
    "        'up_intensity': 0,\n",
    "        'down_intensity': 0,\n",
    "        'left_intensity': 0,\n",
    "        'right_intensity': 0,\n",
    "        'front_intensity': 0,\n",
    "        'back_intensity': 0\n",
    "    })\n",
    "    \n",
    "    for voxel_idx, voxel_data in voxel_grid.items():\n",
    "        normals = np.array(voxel_data['normals'])\n",
    "        up_intensity = compute_intensity_for_face(normals, np.array([0, 0, 1])) + 0.1\n",
    "        down_intensity = compute_intensity_for_face(normals, np.array([0, 0, -1])) + 0.1\n",
    "        left_intensity = compute_intensity_for_face(normals, np.array([-1, 0, 0])) + 0.1\n",
    "        right_intensity = compute_intensity_for_face(normals, np.array([1, 0, 0])) + 0.1\n",
    "        front_intensity = compute_intensity_for_face(normals, np.array([0, 1, 0])) + 0.1\n",
    "        back_intensity = compute_intensity_for_face(normals, np.array([0, -1, 0])) + 0.1\n",
    "\n",
    "        intensity_sum = (up_intensity + down_intensity + left_intensity + right_intensity +\n",
    "                         front_intensity + back_intensity)\n",
    "\n",
    "        if intensity_sum > 0:\n",
    "            up_intensity /= intensity_sum\n",
    "            down_intensity /= intensity_sum\n",
    "            left_intensity /= intensity_sum\n",
    "            right_intensity /= intensity_sum\n",
    "            front_intensity /= intensity_sum\n",
    "            back_intensity /= intensity_sum\n",
    "\n",
    "        data.append({\n",
    "            'voxel_idx': voxel_idx,\n",
    "            'irradiance': voxel_data['irradiance'],\n",
    "            'up_intensity': up_intensity,\n",
    "            'down_intensity': down_intensity,\n",
    "            'left_intensity': left_intensity,\n",
    "            'right_intensity': right_intensity,\n",
    "            'front_intensity': front_intensity,\n",
    "            'back_intensity': back_intensity\n",
    "        })\n",
    "\n",
    "    df = pd.DataFrame(data)\n",
    "    df.set_index('voxel_idx', inplace=True)\n",
    "    return df"
   ]
  },
  {
   "cell_type": "code",
   "execution_count": 42,
   "metadata": {},
   "outputs": [],
   "source": [
    "def batch_update_grid_point_irradiance(point_grid, voxel_grid, irradiance, index_map, azimuth_map, elevation_map, voxel_size=2.0):\n",
    "    num_points = point_grid.shape[0]\n",
    "    num_samples = 360 * 90\n",
    "\n",
    "    updated_irradiance = irradiance.copy()\n",
    "    batch_size = 1000\n",
    "    for i in tqdm(range(0, num_points, batch_size), desc=\"Processing points\"):\n",
    "        batch_start = i\n",
    "        batch_end = min(i + batch_size, num_points)\n",
    "\n",
    "        azimuth_point = azimuth_map[batch_start*num_samples:batch_end*num_samples]\n",
    "        elevation_point = elevation_map[batch_start*num_samples:batch_end*num_samples]\n",
    "        azimuth_valid = np.radians(azimuth_point)\n",
    "        elevation_valid = np.radians(elevation_point)\n",
    "        directions_x = np.cos(elevation_valid) * np.cos(azimuth_valid)\n",
    "        directions_y = np.cos(elevation_valid) * np.sin(azimuth_valid)\n",
    "        directions_z = np.sin(elevation_valid)\n",
    "        \n",
    "\n",
    "        voxel_indexes = index_map[batch_start*num_samples:batch_end*num_samples]\n",
    "        relevant_voxels = voxel_grid.reindex(voxel_indexes, fill_value=0)\n",
    "\n",
    "        pixels_irradiance = relevant_voxels['irradiance'].values\n",
    "\n",
    "        up_intensities = relevant_voxels['up_intensity'].values\n",
    "        down_intensities = relevant_voxels['down_intensity'].values\n",
    "        left_intensities = relevant_voxels['left_intensity'].values\n",
    "        right_intensities = relevant_voxels['right_intensity'].values\n",
    "        front_intensities = relevant_voxels['front_intensity'].values\n",
    "        back_intensities = relevant_voxels['back_intensity'].values\n",
    "        \n",
    "        x_mask = np.where(directions_x > 0, right_intensities, left_intensities)\n",
    "        y_mask = np.where(directions_y > 0, front_intensities, back_intensities)\n",
    "        z_mask = np.where(directions_z > 0, up_intensities, down_intensities)\n",
    "        \n",
    "        contributions = x_mask + y_mask + z_mask\n",
    "        updated_irradiance[batch_start:batch_end] += np.sum(contributions * pixels_irradiance/num_samples * 0.1)\n",
    "        \n",
    "\n",
    "    return updated_irradiance"
   ]
  },
  {
   "cell_type": "code",
   "execution_count": 14,
   "metadata": {},
   "outputs": [],
   "source": [
    "irradiance = np.random.uniform(0, 1000, point_grid.shape[0])\n",
    "first_voxel_grid = pd_integrate_voxel_info(point_grid, irradiance)"
   ]
  },
  {
   "cell_type": "code",
   "execution_count": 43,
   "metadata": {},
   "outputs": [
    {
     "name": "stderr",
     "output_type": "stream",
     "text": [
      "Processing points:  14%|█▍        | 46/332 [02:54<18:03,  3.79s/it]\n"
     ]
    },
    {
     "ename": "KeyboardInterrupt",
     "evalue": "",
     "output_type": "error",
     "traceback": [
      "\u001b[1;31m---------------------------------------------------------------------------\u001b[0m",
      "\u001b[1;31mKeyboardInterrupt\u001b[0m                         Traceback (most recent call last)",
      "Cell \u001b[1;32mIn[43], line 1\u001b[0m\n\u001b[1;32m----> 1\u001b[0m batch_updated_irradiance \u001b[38;5;241m=\u001b[39m \u001b[43mbatch_update_grid_point_irradiance\u001b[49m\u001b[43m(\u001b[49m\u001b[43mpoint_grid\u001b[49m\u001b[43m,\u001b[49m\u001b[43m \u001b[49m\u001b[43mfirst_voxel_grid\u001b[49m\u001b[43m,\u001b[49m\u001b[43m \u001b[49m\u001b[43mirradiance\u001b[49m\u001b[43m,\u001b[49m\u001b[43m \u001b[49m\u001b[43mindex_map\u001b[49m\u001b[43m,\u001b[49m\u001b[43m \u001b[49m\u001b[43mazimuth_map\u001b[49m\u001b[43m,\u001b[49m\u001b[43m \u001b[49m\u001b[43melevation_map\u001b[49m\u001b[43m)\u001b[49m\n",
      "Cell \u001b[1;32mIn[42], line 15\u001b[0m, in \u001b[0;36mbatch_update_grid_point_irradiance\u001b[1;34m(point_grid, voxel_grid, irradiance, index_map, azimuth_map, elevation_map, voxel_size)\u001b[0m\n\u001b[0;32m     13\u001b[0m elevation_point \u001b[38;5;241m=\u001b[39m elevation_map[batch_start\u001b[38;5;241m*\u001b[39mnum_samples:batch_end\u001b[38;5;241m*\u001b[39mnum_samples]\n\u001b[0;32m     14\u001b[0m azimuth_valid \u001b[38;5;241m=\u001b[39m np\u001b[38;5;241m.\u001b[39mradians(azimuth_point)\n\u001b[1;32m---> 15\u001b[0m elevation_valid \u001b[38;5;241m=\u001b[39m \u001b[43mnp\u001b[49m\u001b[38;5;241;43m.\u001b[39;49m\u001b[43mradians\u001b[49m\u001b[43m(\u001b[49m\u001b[43melevation_point\u001b[49m\u001b[43m)\u001b[49m\n\u001b[0;32m     16\u001b[0m directions_x \u001b[38;5;241m=\u001b[39m np\u001b[38;5;241m.\u001b[39mcos(elevation_valid) \u001b[38;5;241m*\u001b[39m np\u001b[38;5;241m.\u001b[39mcos(azimuth_valid)\n\u001b[0;32m     17\u001b[0m directions_y \u001b[38;5;241m=\u001b[39m np\u001b[38;5;241m.\u001b[39mcos(elevation_valid) \u001b[38;5;241m*\u001b[39m np\u001b[38;5;241m.\u001b[39msin(azimuth_valid)\n",
      "File \u001b[1;32mc:\\Users\\55241\\miniconda3\\envs\\energy\\lib\\site-packages\\numpy\\core\\memmap.py:319\u001b[0m, in \u001b[0;36mmemmap.__array_wrap__\u001b[1;34m(self, arr, context)\u001b[0m\n\u001b[0;32m    316\u001b[0m     \u001b[38;5;28;01mif\u001b[39;00m \u001b[38;5;28mself\u001b[39m\u001b[38;5;241m.\u001b[39mbase \u001b[38;5;129;01mis\u001b[39;00m \u001b[38;5;129;01mnot\u001b[39;00m \u001b[38;5;28;01mNone\u001b[39;00m \u001b[38;5;129;01mand\u001b[39;00m \u001b[38;5;28mhasattr\u001b[39m(\u001b[38;5;28mself\u001b[39m\u001b[38;5;241m.\u001b[39mbase, \u001b[38;5;124m'\u001b[39m\u001b[38;5;124mflush\u001b[39m\u001b[38;5;124m'\u001b[39m):\n\u001b[0;32m    317\u001b[0m         \u001b[38;5;28mself\u001b[39m\u001b[38;5;241m.\u001b[39mbase\u001b[38;5;241m.\u001b[39mflush()\n\u001b[1;32m--> 319\u001b[0m \u001b[38;5;28;01mdef\u001b[39;00m \u001b[38;5;21m__array_wrap__\u001b[39m(\u001b[38;5;28mself\u001b[39m, arr, context\u001b[38;5;241m=\u001b[39m\u001b[38;5;28;01mNone\u001b[39;00m):\n\u001b[0;32m    320\u001b[0m     arr \u001b[38;5;241m=\u001b[39m \u001b[38;5;28msuper\u001b[39m()\u001b[38;5;241m.\u001b[39m__array_wrap__(arr, context)\n\u001b[0;32m    322\u001b[0m     \u001b[38;5;66;03m# Return a memmap if a memmap was given as the output of the\u001b[39;00m\n\u001b[0;32m    323\u001b[0m     \u001b[38;5;66;03m# ufunc. Leave the arr class unchanged if self is not a memmap\u001b[39;00m\n\u001b[0;32m    324\u001b[0m     \u001b[38;5;66;03m# to keep original memmap subclasses behavior\u001b[39;00m\n",
      "\u001b[1;31mKeyboardInterrupt\u001b[0m: "
     ]
    }
   ],
   "source": [
    "\n",
    "batch_updated_irradiance = batch_update_grid_point_irradiance(point_grid, first_voxel_grid, irradiance, index_map, azimuth_map, elevation_map)"
   ]
  },
  {
   "cell_type": "code",
   "execution_count": 25,
   "metadata": {},
   "outputs": [],
   "source": [
    "irradiance = np.random.uniform(0, 1000, point_grid.shape[0])\n",
    "updated_voxel= integrate_voxel_info(point_grid, irradiance)\n"
   ]
  },
  {
   "cell_type": "code",
   "execution_count": 14,
   "metadata": {},
   "outputs": [
    {
     "name": "stderr",
     "output_type": "stream",
     "text": [
      "Processing points:   7%|▋         | 22317/331547 [00:25<05:55, 868.73it/s] \n"
     ]
    },
    {
     "ename": "KeyboardInterrupt",
     "evalue": "",
     "output_type": "error",
     "traceback": [
      "\u001b[1;31m---------------------------------------------------------------------------\u001b[0m",
      "\u001b[1;31mKeyboardInterrupt\u001b[0m                         Traceback (most recent call last)",
      "Cell \u001b[1;32mIn[14], line 1\u001b[0m\n\u001b[1;32m----> 1\u001b[0m updated_irradiance \u001b[38;5;241m=\u001b[39m \u001b[43mupdate_grid_point_irradiance\u001b[49m\u001b[43m(\u001b[49m\u001b[43mpoint_grid\u001b[49m\u001b[43m,\u001b[49m\u001b[43m \u001b[49m\u001b[43mupdated_voxel\u001b[49m\u001b[43m,\u001b[49m\u001b[43m \u001b[49m\u001b[43mirradiance\u001b[49m\u001b[43m,\u001b[49m\u001b[43m \u001b[49m\u001b[43mindex_map\u001b[49m\u001b[43m,\u001b[49m\u001b[43m \u001b[49m\u001b[43mazimuth_map\u001b[49m\u001b[43m,\u001b[49m\u001b[43m \u001b[49m\u001b[43melevation_map\u001b[49m\u001b[43m)\u001b[49m\n",
      "Cell \u001b[1;32mIn[6], line 68\u001b[0m, in \u001b[0;36mupdate_grid_point_irradiance\u001b[1;34m(point_grid, voxel_grid, irradiance, index_map, azimuth_map, elevation_map, voxel_size)\u001b[0m\n\u001b[0;32m     66\u001b[0m directions_x \u001b[38;5;241m=\u001b[39m np\u001b[38;5;241m.\u001b[39mcos(elevation_valid) \u001b[38;5;241m*\u001b[39m np\u001b[38;5;241m.\u001b[39mcos(azimuth_valid)\n\u001b[0;32m     67\u001b[0m directions_y \u001b[38;5;241m=\u001b[39m np\u001b[38;5;241m.\u001b[39mcos(elevation_valid) \u001b[38;5;241m*\u001b[39m np\u001b[38;5;241m.\u001b[39msin(azimuth_valid)\n\u001b[1;32m---> 68\u001b[0m directions_z \u001b[38;5;241m=\u001b[39m \u001b[43mnp\u001b[49m\u001b[38;5;241;43m.\u001b[39;49m\u001b[43msin\u001b[49m\u001b[43m(\u001b[49m\u001b[43melevation_valid\u001b[49m\u001b[43m)\u001b[49m\n\u001b[0;32m     70\u001b[0m contributions \u001b[38;5;241m=\u001b[39m np\u001b[38;5;241m.\u001b[39mzeros(valid_mask\u001b[38;5;241m.\u001b[39msum())\n\u001b[0;32m     71\u001b[0m contributions \u001b[38;5;241m+\u001b[39m\u001b[38;5;241m=\u001b[39m np\u001b[38;5;241m.\u001b[39mwhere(directions_x \u001b[38;5;241m>\u001b[39m \u001b[38;5;241m0\u001b[39m, voxel_data[\u001b[38;5;124m'\u001b[39m\u001b[38;5;124mright_intensity\u001b[39m\u001b[38;5;124m'\u001b[39m],  voxel_data[\u001b[38;5;124m'\u001b[39m\u001b[38;5;124mleft_intensity\u001b[39m\u001b[38;5;124m'\u001b[39m])\n",
      "\u001b[1;31mKeyboardInterrupt\u001b[0m: "
     ]
    }
   ],
   "source": [
    "updated_irradiance = update_grid_point_irradiance(point_grid, updated_voxel, irradiance, index_map, azimuth_map, elevation_map)"
   ]
  },
  {
   "cell_type": "code",
   "execution_count": null,
   "metadata": {},
   "outputs": [],
   "source": [
    "from line_profiler import LineProfiler\n",
    "\n",
    "lp = LineProfiler()\n",
    "lp_wrapper = lp(update_grid_point_irradiance)\n",
    "lp_wrapper(point_grid, updated_voxel, irradiance, index_map, azimuth_map, elevation_map)\n",
    "lp.print_stats()\n"
   ]
  },
  {
   "cell_type": "code",
   "execution_count": null,
   "metadata": {},
   "outputs": [],
   "source": [
    "voxel_after1 = update_voxel(updated_voxel, point_grid, updated_irradiance)\n",
    "irradiance2 = update_grid_point_irradiance(point_grid, voxel_after1, updated_irradiance, index_map, azimuth_map, elevation_map)\n",
    "diff_01 = updated_irradiance - irradiance\n",
    "non_zero_diff_01 = diff_01[diff_01 != 0]\n",
    "\n",
    "diff_12 = irradiance2 - updated_irradiance\n",
    "non_zero_diff_12 = diff_12[diff_12 != 0]"
   ]
  },
  {
   "cell_type": "code",
   "execution_count": 41,
   "metadata": {},
   "outputs": [
    {
     "data": {
      "image/png": "[encoded data removed]",
      "text/plain": [
       "<Figure size 640x480 with 1 Axes>"
      ]
     },
     "metadata": {},
     "output_type": "display_data"
    }
   ],
   "source": [
    "plt.hist(non_zero_diff_01, bins='auto', alpha=0.7, rwidth=0.85)\n",
    "plt.xlabel('Value')\n",
    "plt.ylabel('Frequency')\n",
    "plt.title('Histogram of Non-Zero Elements')\n",
    "plt.grid(axis='y', alpha=0.75)\n",
    "\n",
    "plt.show()"
   ]
  },
  {
   "cell_type": "code",
   "execution_count": 42,
   "metadata": {},
   "outputs": [
    {
     "data": {
      "image/png": "[encoded data removed]",
      "text/plain": [
       "<Figure size 640x480 with 1 Axes>"
      ]
     },
     "metadata": {},
     "output_type": "display_data"
    }
   ],
   "source": [
    "plt.hist(non_zero_diff_12, bins='auto', alpha=0.7, rwidth=0.85)\n",
    "plt.xlabel('Value')\n",
    "plt.ylabel('Frequency')\n",
    "plt.title('Histogram of Non-Zero Elements')\n",
    "plt.grid(axis='y', alpha=0.75)\n",
    "\n",
    "plt.show()"
   ]
  },
  {
   "cell_type": "code",
   "execution_count": 39,
   "metadata": {},
   "outputs": [
    {
     "name": "stdout",
     "output_type": "stream",
     "text": [
      "for_loop_32400: 0.100410 seconds\n",
      "for_loop_324000: 1.272392 seconds\n",
      "pandas_32400: 0.019804 seconds\n",
      "pandas_324000: 0.133374 seconds\n",
      "numpy_vectorize_32400: 0.129338 seconds\n",
      "numpy_vectorize_324000: 1.156629 seconds\n"
     ]
    }
   ],
   "source": [
    "import numpy as np\n",
    "import pandas as pd\n",
    "import random\n",
    "import timeit\n",
    "\n",
    "# 生成13万对键值对\n",
    "keys = np.arange(1, 130001)\n",
    "values = [f'value_{i}' for i in keys]\n",
    "\n",
    "# 将键值对数据转换为字典\n",
    "map_dict = dict(zip(keys, values))\n",
    "\n",
    "# 创建 pandas DataFrame\n",
    "df = pd.DataFrame({'key': keys, 'value': values})\n",
    "df.set_index('key', inplace=True)\n",
    "\n",
    "# 创建查询keys\n",
    "query_keys_32400 = np.random.choice(keys, 32400, replace=True)\n",
    "query_keys_324000 = np.random.choice(keys, 324000, replace=True)\n",
    "\n",
    "# 定义 for 循环查找\n",
    "def for_loop_lookup(query_keys):\n",
    "    result = []\n",
    "    for key in query_keys:\n",
    "        result.append(map_dict.get(key))\n",
    "    return result\n",
    "\n",
    "# 定义 pandas 查找\n",
    "def pandas_lookup(query_keys):\n",
    "    return df.loc[query_keys]['value'].values\n",
    "\n",
    "\n",
    "\n"
   ]
  }
 ],
 "metadata": {
  "kernelspec": {
   "display_name": "energy",
   "language": "python",
   "name": "python3"
  },
  "language_info": {
   "codemirror_mode": {
    "name": "ipython",
    "version": 3
   },
   "file_extension": ".py",
   "mimetype": "text/x-python",
   "name": "python",
   "nbconvert_exporter": "python",
   "pygments_lexer": "ipython3",
   "version": "3.9.18"
  }
 },
 "nbformat": 4,
 "nbformat_minor": 2
}
