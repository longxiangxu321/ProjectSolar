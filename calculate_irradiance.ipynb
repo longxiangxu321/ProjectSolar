{
 "cells": [
  {
   "cell_type": "code",
   "execution_count": 1,
   "metadata": {},
   "outputs": [],
   "source": [
    "import numpy as np"
   ]
  },
  {
   "cell_type": "code",
   "execution_count": 2,
   "metadata": {},
   "outputs": [],
   "source": [
    "point_grid_path = \"./out/build/grid_points.dat\"\n",
    "index_map_path = \"./out/build/index_map.dat\"\n",
    "shadow_map_path = \"./out/build/shadow_map.dat\"\n",
    "\n",
    "azimuth_map_path = \"./out/build/azimuth_map.dat\"\n",
    "elevation_map_path = \"./out/build/elevation_map.dat\""
   ]
  },
  {
   "cell_type": "code",
   "execution_count": 3,
   "metadata": {},
   "outputs": [],
   "source": [
    "index_map = np.memmap(index_map_path, dtype=np.uint32, mode='r')\n",
    "azimuth_map = np.memmap(azimuth_map_path, dtype=np.float16, mode='r')\n",
    "elevation_map = np.memmap(elevation_map_path, dtype=np.float16, mode='r')\n",
    "point_grid = np.loadtxt(point_grid_path)"
   ]
  },
  {
   "cell_type": "code",
   "execution_count": 9,
   "metadata": {},
   "outputs": [],
   "source": [
    "# point_grid_num = 331547\n",
    "# bbox_min = (84501.6, 445805, -3.747)\n",
    "# resolution = 2.0\n",
    "voxel_dim = (587,590,50)"
   ]
  },
  {
   "cell_type": "code",
   "execution_count": 4,
   "metadata": {},
   "outputs": [],
   "source": [
    "point_grid = point_grid[:,0:6]"
   ]
  },
  {
   "cell_type": "code",
   "execution_count": 5,
   "metadata": {},
   "outputs": [],
   "source": [
    "irradiance = np.zeros(point_grid.shape[0])"
   ]
  },
  {
   "cell_type": "code",
   "execution_count": 50,
   "metadata": {},
   "outputs": [],
   "source": [
    "def integrate_voxel_info(point_grid, irradiance_vals, voxel_size = 2.0 ):\n",
    "    voxel_grid = {}\n",
    "    bbox_min = np.min(point_grid[:, :3], axis=0)\n",
    "    \n",
    "    def compute_intensity_for_face(normals, face_normal):\n",
    "        ratio = np.sum(normals @ face_normal > 0) / len(normals)\n",
    "        dot_products = normals[normals @ face_normal > 0] @ face_normal\n",
    "        if len(dot_products) > 0:\n",
    "            intensity = np.mean(dot_products) * ratio\n",
    "        else:\n",
    "            intensity = 0\n",
    "        return intensity\n",
    "    \n",
    "    voxel_id_list = []\n",
    "\n",
    "    for i in range(point_grid.shape[0]):\n",
    "        # point = point_grid[i]\n",
    "        voxel_ids = ((point_grid[i, :3] - bbox_min) / voxel_size).astype(int)\n",
    "        voxel_idx = voxel_ids[0] + voxel_ids[1] * voxel_dim[0] + voxel_ids[2] * voxel_dim[0] * voxel_dim[1]\n",
    "        # voxel_idx = voxel_ids[0] + voxel_ids[1] * voxel_dim[0] + voxel_ids[2] * voxel_dim[0] * voxel_dim[1]\n",
    "        # print(voxel_ids)\n",
    "        if voxel_idx not in voxel_grid:\n",
    "            voxel_grid[voxel_idx] = {'normals': [], 'irradiance': 0}\n",
    "            voxel_id_list.append(voxel_idx)\n",
    "        voxel_grid[voxel_idx]['normals'].append(point_grid[i, 3:6])\n",
    "        voxel_grid[voxel_idx]['irradiance'] += irradiance_vals[i]\n",
    "\n",
    "    for voxel in voxel_grid:\n",
    "        normals = np.array(voxel_grid[voxel]['normals'])\n",
    "        voxel_grid[voxel]['up_intensity'] = compute_intensity_for_face(normals, np.array([0, 0, 1]))\n",
    "        voxel_grid[voxel]['down_intensity'] = compute_intensity_for_face(normals, np.array([0, 0, -1]))\n",
    "        voxel_grid[voxel]['left_intensity'] = compute_intensity_for_face(normals, np.array([-1, 0, 0]))\n",
    "        voxel_grid[voxel]['right_intensity'] = compute_intensity_for_face(normals, np.array([1, 0, 0]))\n",
    "        voxel_grid[voxel]['front_intensity'] = compute_intensity_for_face(normals, np.array([0, 1, 0]))\n",
    "        voxel_grid[voxel]['back_intensity'] = compute_intensity_for_face(normals, np.array([0, -1, 0]))\n",
    "\n",
    "        intensity_sum = (voxel_grid[voxel]['up_intensity'] + voxel_grid[voxel]['down_intensity'] +\n",
    "                         voxel_grid[voxel]['left_intensity'] + voxel_grid[voxel]['right_intensity'] +\n",
    "                         voxel_grid[voxel]['front_intensity'] + voxel_grid[voxel]['back_intensity'])\n",
    "\n",
    "        if intensity_sum > 0:\n",
    "            for key in ['up_intensity', 'down_intensity', 'left_intensity', 'right_intensity', 'front_intensity', 'back_intensity']:\n",
    "                voxel_grid[voxel][key] /= intensity_sum\n",
    "\n",
    "    return voxel_grid, voxel_id_list\n",
    "\n",
    "# def update_grid_point_irradiance(point_grid, voxel_grid, irradiance, index_map, azimuth_map, elevation_map, voxel_size=2.0):\n",
    "#     num_points = point_grid.shape[0]\n",
    "#     num_samples = 360 * 90\n",
    "#     bbox_min = np.min(point_grid[:, :3], axis=0)\n",
    "#     voxel_dim = np.ceil((np.max(point_grid[:, :3], axis=0) - bbox_min) / voxel_size).astype(int)\n",
    "\n",
    "#     for i in range(num_points):\n",
    "#         voxel_ids = ((point_grid[i, :3] - bbox_min) / voxel_size).astype(int)\n",
    "#         voxel_idx = voxel_ids[0] + voxel_ids[1] * voxel_dim[0] + voxel_ids[2] * voxel_dim[0] * voxel_dim[1]\n",
    "#         voxel_data = voxel_grid[voxel_idx]\n",
    "\n",
    "#         directions = np.stack([np.cos(np.radians(elevation_map[i*num_samples + j])) * np.cos(np.radians(azimuth_map[i*num_samples + j])),\n",
    "#                                np.cos(np.radians(elevation_map[i*num_samples + j])) * np.sin(np.radians(azimuth_map[i*num_samples + j])),\n",
    "#                                np.sin(np.radians(elevation_map[i*num_samples + j]))] for j in range(num_samples), axis=-1)\n",
    "\n",
    "#         mask = index_map[i*num_samples:(i+1)*num_samples] != np.iinfo(np.uint32).max\n",
    "\n",
    "#         directions = directions[:, mask]\n",
    "\n",
    "#         contributions = np.zeros(num_samples)\n",
    "#         valid_directions = directions[:, mask]\n",
    "\n",
    "#         contributions[mask] += np.where(valid_directions[0, :] > 0, valid_directions[0, :] * voxel_data['right_intensity'], -valid_directions[0, :] * voxel_data['left_intensity'])\n",
    "#         contributions[mask] += np.where(valid_directions[1, :] > 0, valid_directions[1, :] * voxel_data['front_intensity'], -valid_directions[1, :] * voxel_data['back_intensity'])\n",
    "#         contributions[mask] += np.where(valid_directions[2, :] > 0, valid_directions[2, :] * voxel_data['up_intensity'], -valid_directions[2, :] * voxel_data['down_intensity'])\n",
    "\n",
    "#         irradiance[i] += np.sum(contributions * voxel_data['irradiance'] * 0.1)\n",
    "\n",
    "#         if i % 100 == 0:\n",
    "#             print('Processed {} points'.format(i))\n",
    "#     return irradiance\n",
    "\n",
    "\n",
    "def update_grid_point_irradiance(point_grid, voxel_grid, irradiance, index_map, azimuth_map, elevation_map, voxel_size=2.0):\n",
    "    num_points = point_grid.shape[0]\n",
    "    num_samples = 360 * 90\n",
    "    bbox_min = np.min(point_grid[:, :3], axis=0)\n",
    "    # bbox_min = np.min(point_grid[:, :3], axis=0)\n",
    "    # voxel_dim = np.ceil((np.max(point_grid[:, :3], axis=0) - bbox_min) / voxel_size).astype(int)\n",
    "\n",
    "    for i in range(num_points):\n",
    "        voxel_ids = ((point_grid[i, :3] - bbox_min) / voxel_size).astype(int)\n",
    "        voxel_idx = voxel_ids[0] + voxel_ids[1] * voxel_dim[0] + voxel_ids[2] * voxel_dim[0] * voxel_dim[1]\n",
    "        voxel_data = voxel_grid[voxel_idx]\n",
    "\n",
    "        directions = np.stack([np.cos(np.radians(elevation_map[i*num_samples + j])) * np.cos(np.radians(azimuth_map[i*num_samples + j])),\n",
    "                               np.cos(np.radians(elevation_map[i*num_samples + j])) * np.sin(np.radians(azimuth_map[i*num_samples + j])),\n",
    "                               np.sin(np.radians(elevation_map[i*num_samples + j]))] for j in range(num_samples))\n",
    "\n",
    "        mask = index_map[i*num_samples:(i+1)*num_samples] != np.iinfo(np.uint32).max\n",
    "\n",
    "        contributions = np.zeros(num_samples)\n",
    "        directions = directions[mask]\n",
    "\n",
    "        contributions[mask] += np.where(directions[:, 0] > 0, directions[:, 0] * voxel_data['right_intensity'], -directions[:, 0] * voxel_data['left_intensity'])\n",
    "        contributions[mask] += np.where(directions[:, 1] > 0, directions[:, 1] * voxel_data['front_intensity'], -directions[:, 1] * voxel_data['back_intensity'])\n",
    "        contributions[mask] += np.where(directions[:, 2] > 0, directions[:, 2] * voxel_data['up_intensity'], -directions[:, 2] * voxel_data['down_intensity'])\n",
    "\n",
    "        irradiance[i] += np.sum(contributions * voxel_data['irradiance'] * 0.1)\n",
    "\n",
    "        if i % 100 == 0:\n",
    "            print('Processed {} points'.format(i))\n",
    "    return irradiance\n",
    "\n"
   ]
  },
  {
   "cell_type": "code",
   "execution_count": 44,
   "metadata": {},
   "outputs": [],
   "source": [
    "updated_voxel, voxel_ids = integrate_voxel_info(point_grid, irradiance)\n"
   ]
  },
  {
   "cell_type": "code",
   "execution_count": 51,
   "metadata": {},
   "outputs": [
    {
     "ename": "TypeError",
     "evalue": "arrays to stack must be passed as a \"sequence\" type such as list or tuple.",
     "output_type": "error",
     "traceback": [
      "\u001b[1;31m---------------------------------------------------------------------------\u001b[0m",
      "\u001b[1;31mTypeError\u001b[0m                                 Traceback (most recent call last)",
      "Cell \u001b[1;32mIn[51], line 1\u001b[0m\n\u001b[1;32m----> 1\u001b[0m updated_irradiance \u001b[38;5;241m=\u001b[39m \u001b[43mupdate_grid_point_irradiance\u001b[49m\u001b[43m(\u001b[49m\u001b[43mpoint_grid\u001b[49m\u001b[43m,\u001b[49m\u001b[43m \u001b[49m\u001b[43mupdated_voxel\u001b[49m\u001b[43m,\u001b[49m\u001b[43m \u001b[49m\u001b[43mirradiance\u001b[49m\u001b[43m,\u001b[49m\u001b[43m \u001b[49m\u001b[43mindex_map\u001b[49m\u001b[43m,\u001b[49m\u001b[43m \u001b[49m\u001b[43mazimuth_map\u001b[49m\u001b[43m,\u001b[49m\u001b[43m \u001b[49m\u001b[43melevation_map\u001b[49m\u001b[43m)\u001b[49m\n",
      "Cell \u001b[1;32mIn[50], line 92\u001b[0m, in \u001b[0;36mupdate_grid_point_irradiance\u001b[1;34m(point_grid, voxel_grid, irradiance, index_map, azimuth_map, elevation_map, voxel_size)\u001b[0m\n\u001b[0;32m     89\u001b[0m voxel_idx \u001b[38;5;241m=\u001b[39m voxel_ids[\u001b[38;5;241m0\u001b[39m] \u001b[38;5;241m+\u001b[39m voxel_ids[\u001b[38;5;241m1\u001b[39m] \u001b[38;5;241m*\u001b[39m voxel_dim[\u001b[38;5;241m0\u001b[39m] \u001b[38;5;241m+\u001b[39m voxel_ids[\u001b[38;5;241m2\u001b[39m] \u001b[38;5;241m*\u001b[39m voxel_dim[\u001b[38;5;241m0\u001b[39m] \u001b[38;5;241m*\u001b[39m voxel_dim[\u001b[38;5;241m1\u001b[39m]\n\u001b[0;32m     90\u001b[0m voxel_data \u001b[38;5;241m=\u001b[39m voxel_grid[voxel_idx]\n\u001b[1;32m---> 92\u001b[0m directions \u001b[38;5;241m=\u001b[39m \u001b[43mnp\u001b[49m\u001b[38;5;241;43m.\u001b[39;49m\u001b[43mstack\u001b[49m\u001b[43m(\u001b[49m\u001b[43m[\u001b[49m\u001b[43mnp\u001b[49m\u001b[38;5;241;43m.\u001b[39;49m\u001b[43mcos\u001b[49m\u001b[43m(\u001b[49m\u001b[43mnp\u001b[49m\u001b[38;5;241;43m.\u001b[39;49m\u001b[43mradians\u001b[49m\u001b[43m(\u001b[49m\u001b[43melevation_map\u001b[49m\u001b[43m[\u001b[49m\u001b[43mi\u001b[49m\u001b[38;5;241;43m*\u001b[39;49m\u001b[43mnum_samples\u001b[49m\u001b[43m \u001b[49m\u001b[38;5;241;43m+\u001b[39;49m\u001b[43m \u001b[49m\u001b[43mj\u001b[49m\u001b[43m]\u001b[49m\u001b[43m)\u001b[49m\u001b[43m)\u001b[49m\u001b[43m \u001b[49m\u001b[38;5;241;43m*\u001b[39;49m\u001b[43m \u001b[49m\u001b[43mnp\u001b[49m\u001b[38;5;241;43m.\u001b[39;49m\u001b[43mcos\u001b[49m\u001b[43m(\u001b[49m\u001b[43mnp\u001b[49m\u001b[38;5;241;43m.\u001b[39;49m\u001b[43mradians\u001b[49m\u001b[43m(\u001b[49m\u001b[43mazimuth_map\u001b[49m\u001b[43m[\u001b[49m\u001b[43mi\u001b[49m\u001b[38;5;241;43m*\u001b[39;49m\u001b[43mnum_samples\u001b[49m\u001b[43m \u001b[49m\u001b[38;5;241;43m+\u001b[39;49m\u001b[43m \u001b[49m\u001b[43mj\u001b[49m\u001b[43m]\u001b[49m\u001b[43m)\u001b[49m\u001b[43m)\u001b[49m\u001b[43m,\u001b[49m\n\u001b[0;32m     93\u001b[0m \u001b[43m                       \u001b[49m\u001b[43mnp\u001b[49m\u001b[38;5;241;43m.\u001b[39;49m\u001b[43mcos\u001b[49m\u001b[43m(\u001b[49m\u001b[43mnp\u001b[49m\u001b[38;5;241;43m.\u001b[39;49m\u001b[43mradians\u001b[49m\u001b[43m(\u001b[49m\u001b[43melevation_map\u001b[49m\u001b[43m[\u001b[49m\u001b[43mi\u001b[49m\u001b[38;5;241;43m*\u001b[39;49m\u001b[43mnum_samples\u001b[49m\u001b[43m \u001b[49m\u001b[38;5;241;43m+\u001b[39;49m\u001b[43m \u001b[49m\u001b[43mj\u001b[49m\u001b[43m]\u001b[49m\u001b[43m)\u001b[49m\u001b[43m)\u001b[49m\u001b[43m \u001b[49m\u001b[38;5;241;43m*\u001b[39;49m\u001b[43m \u001b[49m\u001b[43mnp\u001b[49m\u001b[38;5;241;43m.\u001b[39;49m\u001b[43msin\u001b[49m\u001b[43m(\u001b[49m\u001b[43mnp\u001b[49m\u001b[38;5;241;43m.\u001b[39;49m\u001b[43mradians\u001b[49m\u001b[43m(\u001b[49m\u001b[43mazimuth_map\u001b[49m\u001b[43m[\u001b[49m\u001b[43mi\u001b[49m\u001b[38;5;241;43m*\u001b[39;49m\u001b[43mnum_samples\u001b[49m\u001b[43m \u001b[49m\u001b[38;5;241;43m+\u001b[39;49m\u001b[43m \u001b[49m\u001b[43mj\u001b[49m\u001b[43m]\u001b[49m\u001b[43m)\u001b[49m\u001b[43m)\u001b[49m\u001b[43m,\u001b[49m\n\u001b[0;32m     94\u001b[0m \u001b[43m                       \u001b[49m\u001b[43mnp\u001b[49m\u001b[38;5;241;43m.\u001b[39;49m\u001b[43msin\u001b[49m\u001b[43m(\u001b[49m\u001b[43mnp\u001b[49m\u001b[38;5;241;43m.\u001b[39;49m\u001b[43mradians\u001b[49m\u001b[43m(\u001b[49m\u001b[43melevation_map\u001b[49m\u001b[43m[\u001b[49m\u001b[43mi\u001b[49m\u001b[38;5;241;43m*\u001b[39;49m\u001b[43mnum_samples\u001b[49m\u001b[43m \u001b[49m\u001b[38;5;241;43m+\u001b[39;49m\u001b[43m \u001b[49m\u001b[43mj\u001b[49m\u001b[43m]\u001b[49m\u001b[43m)\u001b[49m\u001b[43m)\u001b[49m\u001b[43m]\u001b[49m\u001b[43m \u001b[49m\u001b[38;5;28;43;01mfor\u001b[39;49;00m\u001b[43m \u001b[49m\u001b[43mj\u001b[49m\u001b[43m \u001b[49m\u001b[38;5;129;43;01min\u001b[39;49;00m\u001b[43m \u001b[49m\u001b[38;5;28;43mrange\u001b[39;49m\u001b[43m(\u001b[49m\u001b[43mnum_samples\u001b[49m\u001b[43m)\u001b[49m\u001b[43m)\u001b[49m\n\u001b[0;32m     96\u001b[0m mask \u001b[38;5;241m=\u001b[39m index_map[i\u001b[38;5;241m*\u001b[39mnum_samples:(i\u001b[38;5;241m+\u001b[39m\u001b[38;5;241m1\u001b[39m)\u001b[38;5;241m*\u001b[39mnum_samples] \u001b[38;5;241m!=\u001b[39m np\u001b[38;5;241m.\u001b[39miinfo(np\u001b[38;5;241m.\u001b[39muint32)\u001b[38;5;241m.\u001b[39mmax\n\u001b[0;32m     98\u001b[0m contributions \u001b[38;5;241m=\u001b[39m np\u001b[38;5;241m.\u001b[39mzeros(num_samples)\n",
      "File \u001b[1;32mc:\\Users\\55241\\miniconda3\\envs\\energy\\lib\\site-packages\\numpy\\core\\shape_base.py:364\u001b[0m, in \u001b[0;36m_stack_dispatcher\u001b[1;34m(arrays, axis, out, dtype, casting)\u001b[0m\n\u001b[0;32m    362\u001b[0m \u001b[38;5;28;01mdef\u001b[39;00m \u001b[38;5;21m_stack_dispatcher\u001b[39m(arrays, axis\u001b[38;5;241m=\u001b[39m\u001b[38;5;28;01mNone\u001b[39;00m, out\u001b[38;5;241m=\u001b[39m\u001b[38;5;28;01mNone\u001b[39;00m, \u001b[38;5;241m*\u001b[39m,\n\u001b[0;32m    363\u001b[0m                       dtype\u001b[38;5;241m=\u001b[39m\u001b[38;5;28;01mNone\u001b[39;00m, casting\u001b[38;5;241m=\u001b[39m\u001b[38;5;28;01mNone\u001b[39;00m):\n\u001b[1;32m--> 364\u001b[0m     arrays \u001b[38;5;241m=\u001b[39m \u001b[43m_arrays_for_stack_dispatcher\u001b[49m\u001b[43m(\u001b[49m\u001b[43marrays\u001b[49m\u001b[43m)\u001b[49m\n\u001b[0;32m    365\u001b[0m     \u001b[38;5;28;01mif\u001b[39;00m out \u001b[38;5;129;01mis\u001b[39;00m \u001b[38;5;129;01mnot\u001b[39;00m \u001b[38;5;28;01mNone\u001b[39;00m:\n\u001b[0;32m    366\u001b[0m         \u001b[38;5;66;03m# optimize for the typical case where only arrays is provided\u001b[39;00m\n\u001b[0;32m    367\u001b[0m         arrays \u001b[38;5;241m=\u001b[39m \u001b[38;5;28mlist\u001b[39m(arrays)\n",
      "File \u001b[1;32mc:\\Users\\55241\\miniconda3\\envs\\energy\\lib\\site-packages\\numpy\\core\\shape_base.py:209\u001b[0m, in \u001b[0;36m_arrays_for_stack_dispatcher\u001b[1;34m(arrays)\u001b[0m\n\u001b[0;32m    207\u001b[0m \u001b[38;5;28;01mdef\u001b[39;00m \u001b[38;5;21m_arrays_for_stack_dispatcher\u001b[39m(arrays):\n\u001b[0;32m    208\u001b[0m     \u001b[38;5;28;01mif\u001b[39;00m \u001b[38;5;129;01mnot\u001b[39;00m \u001b[38;5;28mhasattr\u001b[39m(arrays, \u001b[38;5;124m\"\u001b[39m\u001b[38;5;124m__getitem__\u001b[39m\u001b[38;5;124m\"\u001b[39m):\n\u001b[1;32m--> 209\u001b[0m         \u001b[38;5;28;01mraise\u001b[39;00m \u001b[38;5;167;01mTypeError\u001b[39;00m(\u001b[38;5;124m'\u001b[39m\u001b[38;5;124marrays to stack must be passed as a \u001b[39m\u001b[38;5;124m\"\u001b[39m\u001b[38;5;124msequence\u001b[39m\u001b[38;5;124m\"\u001b[39m\u001b[38;5;124m type \u001b[39m\u001b[38;5;124m'\u001b[39m\n\u001b[0;32m    210\u001b[0m                         \u001b[38;5;124m'\u001b[39m\u001b[38;5;124msuch as list or tuple.\u001b[39m\u001b[38;5;124m'\u001b[39m)\n\u001b[0;32m    212\u001b[0m     \u001b[38;5;28;01mreturn\u001b[39;00m \u001b[38;5;28mtuple\u001b[39m(arrays)\n",
      "\u001b[1;31mTypeError\u001b[0m: arrays to stack must be passed as a \"sequence\" type such as list or tuple."
     ]
    }
   ],
   "source": [
    "updated_irradiance = update_grid_point_irradiance(point_grid, updated_voxel, irradiance, index_map, azimuth_map, elevation_map)"
   ]
  },
  {
   "cell_type": "code",
   "execution_count": 48,
   "metadata": {},
   "outputs": [],
   "source": [
    "updated_voxel = integrate_voxel_info(point_grid, irradiance)"
   ]
  },
  {
   "cell_type": "code",
   "execution_count": 55,
   "metadata": {},
   "outputs": [
    {
     "name": "stdout",
     "output_type": "stream",
     "text": [
      "Processed 0 points\n",
      "Processed 100 points\n"
     ]
    },
    {
     "ename": "KeyboardInterrupt",
     "evalue": "",
     "output_type": "error",
     "traceback": [
      "\u001b[1;31m---------------------------------------------------------------------------\u001b[0m",
      "\u001b[1;31mKeyboardInterrupt\u001b[0m                         Traceback (most recent call last)",
      "Cell \u001b[1;32mIn[55], line 1\u001b[0m\n\u001b[1;32m----> 1\u001b[0m updated_irradiance \u001b[38;5;241m=\u001b[39m \u001b[43mupdate_grid_point_irradiance\u001b[49m\u001b[43m(\u001b[49m\u001b[43mpoint_grid\u001b[49m\u001b[43m,\u001b[49m\u001b[43m \u001b[49m\u001b[43mupdated_voxel\u001b[49m\u001b[43m,\u001b[49m\u001b[43m \u001b[49m\u001b[43mirradiance\u001b[49m\u001b[43m,\u001b[49m\u001b[43m \u001b[49m\u001b[43mindex_map\u001b[49m\u001b[43m,\u001b[49m\u001b[43m \u001b[49m\u001b[43mazimuth_map\u001b[49m\u001b[43m,\u001b[49m\u001b[43m \u001b[49m\u001b[43melevation_map\u001b[49m\u001b[43m)\u001b[49m\n",
      "Cell \u001b[1;32mIn[54], line 67\u001b[0m, in \u001b[0;36mupdate_grid_point_irradiance\u001b[1;34m(point_grid, voxel_grid, irradiance, index_map, azimuth_map, elevation_map, voxel_size)\u001b[0m\n\u001b[0;32m     64\u001b[0m voxel_data \u001b[38;5;241m=\u001b[39m voxel_grid[voxel_idx]\n\u001b[0;32m     66\u001b[0m contribution \u001b[38;5;241m=\u001b[39m \u001b[38;5;241m0\u001b[39m\n\u001b[1;32m---> 67\u001b[0m \u001b[38;5;28;01mif\u001b[39;00m direction[\u001b[38;5;241m0\u001b[39m] \u001b[38;5;241m>\u001b[39m \u001b[38;5;241m0\u001b[39m:\n\u001b[0;32m     68\u001b[0m     contribution \u001b[38;5;241m+\u001b[39m\u001b[38;5;241m=\u001b[39m direction[\u001b[38;5;241m0\u001b[39m] \u001b[38;5;241m*\u001b[39m voxel_data[\u001b[38;5;124m'\u001b[39m\u001b[38;5;124mright_intensity\u001b[39m\u001b[38;5;124m'\u001b[39m]\n\u001b[0;32m     69\u001b[0m \u001b[38;5;28;01melse\u001b[39;00m:\n",
      "\u001b[1;31mKeyboardInterrupt\u001b[0m: "
     ]
    }
   ],
   "source": [
    "updated_irradiance = update_grid_point_irradiance(point_grid, updated_voxel, irradiance, index_map, azimuth_map, elevation_map)"
   ]
  },
  {
   "cell_type": "code",
   "execution_count": 19,
   "metadata": {},
   "outputs": [],
   "source": [
    "sparse_voxel = {}\n",
    "\n",
    "point_grid_num = 331547\n",
    "bbox_min = (84501.6, 445805, -3.747)\n",
    "resolution = 2.0\n",
    "voxel_dim = (587,590,50)\n",
    "index_map\n",
    "\n",
    "\n",
    "# point_grid_irradiance = np.array((point_grid_num, 1), dtype=np.float32)\n",
    "point_grid_irradiance = np.zeros((point_grid_num, ), dtype=np.float32)\n",
    "\n",
    "sparse_voxel_arr = []\n",
    "\n",
    "xs = []\n",
    "ys = []\n",
    "zs = []\n",
    "\n",
    "for i in range(point_grid_num):\n",
    "    coords = point_grid[i][0:3]\n",
    "    normal = point_grid[i][3:6]\n",
    "    ix = int((coords[0] - bbox_min[0]) / resolution)\n",
    "    iy = int((coords[1] - bbox_min[1]) / resolution)\n",
    "    iz = int((coords[2] - bbox_min[2]) / resolution)\n",
    "    voxel_idx = ix + iy * voxel_dim[0] + iz * voxel_dim[0] * voxel_dim[1]\n",
    "    if voxel_idx not in sparse_voxel:\n",
    "        sparse_voxel[voxel_idx] = []\n",
    "    sparse_voxel[voxel_idx].append(normal)\n",
    "    sparse_voxel[voxel_idx].append(point_grid_irradiance[i])\n",
    "    sparse_voxel_arr.append(voxel_idx)"
   ]
  },
  {
   "cell_type": "code",
   "execution_count": 36,
   "metadata": {},
   "outputs": [],
   "source": [
    "for voxel in sparse_voxel:\n",
    "    # data = np.array(sparse_voxel[voxel])\n",
    "\n",
    "    \n",
    "    normals = np.array([sparse_voxel[voxel][i] for i in range(0, len(sparse_voxel[voxel]), 2)])\n",
    "    irradiance_values = np.array([sparse_voxel[voxel][i] for i in range(1, len(sparse_voxel[voxel]), 2)])\n",
    "    num_points = len(normals)\n",
    "\n",
    "    elevations = np.degrees(np.arcsin(normals[:, 2]))\n",
    "    azimuths = np.degrees(np.arctan2(normals[:, 1], normals[:, 0]))\n",
    "\n",
    "    intensity_up_ratio = np.sum(elevations > 45) / num_points\n",
    "    intensity_down_ratio = np.sum(elevations < -45) / num_points\n",
    "    intensity_front_ratio = np.sum((elevations > 0) & (elevations <= 45) & (azimuths >= -135) & (azimuths <= -45)) / num_points\n",
    "    intensity_back_ratio = np.sum((elevations > 0) & (elevations <= 45) & (azimuths >= 45) & (azimuths <= 135)) / num_points\n",
    "    intensity_left_ratio = np.sum((elevations > 0) & (elevations <= 45) & ((azimuths >= 135) | (azimuths <= -135))) / num_points\n",
    "    intensity_right_ratio = np.sum((elevations > 0) & (elevations <= 45) & (azimuths >= -45) & (azimuths <= 45)) / num_points\n",
    "\n",
    "    sparse_voxel[voxel].append([intensity_up_ratio, intensity_down_ratio, intensity_front_ratio, intensity_back_ratio, intensity_left_ratio, intensity_right_ratio])"
   ]
  }
 ],
 "metadata": {
  "kernelspec": {
   "display_name": "energy",
   "language": "python",
   "name": "python3"
  },
  "language_info": {
   "codemirror_mode": {
    "name": "ipython",
    "version": 3
   },
   "file_extension": ".py",
   "mimetype": "text/x-python",
   "name": "python",
   "nbconvert_exporter": "python",
   "pygments_lexer": "ipython3",
   "version": "3.9.18"
  }
 },
 "nbformat": 4,
 "nbformat_minor": 2
}
