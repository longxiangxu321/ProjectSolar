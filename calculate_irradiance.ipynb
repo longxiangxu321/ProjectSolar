{
 "cells": [
  {
   "cell_type": "code",
   "execution_count": 4,
   "metadata": {},
   "outputs": [],
   "source": [
    "import numpy as np"
   ]
  },
  {
   "cell_type": "code",
   "execution_count": 8,
   "metadata": {},
   "outputs": [],
   "source": [
    "\n",
    "semantic_dim = 360*90\n"
   ]
  },
  {
   "cell_type": "code",
   "execution_count": 2,
   "metadata": {},
   "outputs": [],
   "source": [
    "point_grid_path = \"./out/build/grid_points.dat\"\n",
    "index_map_path = \"./out/build/index_map.dat\"\n",
    "shadow_map_path = \"./out/build/shadow_map.dat\"\n",
    "\n",
    "azimuth_map_path = \"./out/build/azimuth_map.dat\"\n",
    "elevation_map_path = \"./out/build/elevation_map.dat\""
   ]
  },
  {
   "cell_type": "code",
   "execution_count": 5,
   "metadata": {},
   "outputs": [
    {
     "name": "stdout",
     "output_type": "stream",
     "text": [
      "(105,)\n"
     ]
    }
   ],
   "source": [
    "index_map = np.memmap(index_map_path, dtype=np.uint32, mode='r')\n",
    "azimuth_map = np.memmap(azimuth_map_path, dtype=np.float16, mode='r')\n",
    "elevation_map = np.memmap(elevation_map_path, dtype=np.float16, mode='r')"
   ]
  },
  {
   "cell_type": "code",
   "execution_count": 9,
   "metadata": {},
   "outputs": [],
   "source": [
    "\n",
    "\n",
    "\n",
    "\n",
    "sparse_voxel = {}\n",
    "\n",
    "point_grid_num = 331547\n",
    "bbox_min = (84501.6, 445805, -3.747)\n",
    "resolution = 2.0\n",
    "voxel_dim = (587,590,50)\n",
    "\n",
    "point_grid = np.array((point_grid_num, 6), dtype=np.float32)\n",
    "point_attribute = np.array((point_grid_num, 1), dtype=np.int32)\n",
    "point_grid_irradiance = np.array((point_grid_num, 1), dtype=np.float32)\n",
    "\n",
    "\n",
    "for i in range(point_grid_num):\n",
    "    coords = point_grid[i, 0:3]\n",
    "    normal = point_grid[i, 3:6]\n",
    "    ix = int((coords[0] - bbox_min[0]) / resolution)\n",
    "    iy = int((coords[1] - bbox_min[1]) / resolution)\n",
    "    iz = int((coords[2] - bbox_min[2]) / resolution)\n",
    "    voxel_idx = ix + iy * voxel_dim[0] + iz * voxel_dim[0] * voxel_dim[1]\n",
    "    if voxel_idx not in sparse_voxel:\n",
    "        sparse_voxel[voxel_idx] = []\n",
    "    sparse_voxel[voxel_idx].append(normal)\n",
    "    sparse_voxel[voxel_idx].append(point_grid_irradiance[i])\n",
    "\n",
    "\n",
    "\n",
    "for voxel in sparse_voxel:\n",
    "    data = np.array(sparse_voxel[voxel])\n",
    "\n",
    "    num_points = data.shape[0]/2\n",
    "    normals = data[::2]\n",
    "    irradiance_values = data[1::2]\n",
    "\n",
    "    elevations = np.degrees(np.arcsin(normals[:, 2]))\n",
    "    azimuths = np.degrees(np.arctan2(normals[:, 1], normals[:, 0]))\n",
    "\n",
    "    intensity_up_ratio = np.sum(elevations > 45) / num_points\n",
    "    intensity_down_ratio = np.sum(elevations < -45) / num_points\n",
    "    intensity_front_ratio = np.sum((elevations > 0) & (elevations <= 45) & (azimuths >= -135) & (azimuths <= -45)) / num_points\n",
    "    intensity_back_ratio = np.sum((elevations > 0) & (elevations <= 45) & (azimuths >= 45) & (azimuths <= 135)) / num_points\n",
    "    intensity_left_ratio = np.sum((elevations > 0) & (elevations <= 45) & ((azimuths >= 135) | (azimuths <= -135))) / num_points\n",
    "    intensity_right_ratio = np.sum((elevations > 0) & (elevations <= 45) & (azimuths >= -45) & (azimuths <= 45)) / num_points\n",
    "\n",
    "    sparse_voxel[voxel].append([intensity_up_ratio, intensity_down_ratio, intensity_front_ratio, intensity_back_ratio, intensity_left_ratio, intensity_right_ratio])"
   ]
  },
  {
   "cell_type": "code",
   "execution_count": null,
   "metadata": {},
   "outputs": [],
   "source": [
    "def iterative_calculation(point_grid_irradiance, sparse_voxel):\n",
    "    "
   ]
  }
 ],
 "metadata": {
  "kernelspec": {
   "display_name": "energy",
   "language": "python",
   "name": "python3"
  },
  "language_info": {
   "codemirror_mode": {
    "name": "ipython",
    "version": 3
   },
   "file_extension": ".py",
   "mimetype": "text/x-python",
   "name": "python",
   "nbconvert_exporter": "python",
   "pygments_lexer": "ipython3",
   "version": "3.9.18"
  }
 },
 "nbformat": 4,
 "nbformat_minor": 2
}
