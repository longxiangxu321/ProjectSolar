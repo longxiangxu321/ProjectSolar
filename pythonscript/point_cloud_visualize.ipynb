{
 "cells": [
  {
   "cell_type": "code",
   "execution_count": 11,
   "metadata": {},
   "outputs": [],
   "source": [
    "import numpy as np\n",
    "import os\n",
    "import json\n",
    "from datetime import datetime"
   ]
  },
  {
   "cell_type": "code",
   "execution_count": 12,
   "metadata": {},
   "outputs": [],
   "source": [
    "# %cd .."
   ]
  },
  {
   "cell_type": "code",
   "execution_count": 13,
   "metadata": {},
   "outputs": [],
   "source": [
    "city_name = 'rotterdam'\n",
    "config_path = f\"\"\"data/{city_name}/output_20241009_092045/config.json\"\"\""
   ]
  },
  {
   "cell_type": "code",
   "execution_count": 14,
   "metadata": {},
   "outputs": [
    {
     "name": "stdout",
     "output_type": "stream",
     "text": [
      "{'area_per_point': 9, 'azimuth_resolution': 5, 'elevation_resolution': 5, 'epw_file': 'heino.epw', 'irradiance_batch_size': 500, 'irradiance_model': 'isotropic', 'num_bounces': 2, 'output_folder_name': 'output_20241005_122441', 'result': {'bbox_max': [235155.0, 484045.0, 54.15999984741211], 'bbox_min': [229055.0, 477845.0, 4.028999328613281], 'num_timesteps': 54, 'shadow_calculation_time': 1.0173659324645996, 'viewshed_rendering_time': 151.43592834472656, 'voxel_dim_x': 678, 'voxel_dim_y': 689, 'voxel_dim_z': 6, 'direct_diffuse_time': 5.968583106994629, 'global_irradiance_time': 42941.120844602585}, 'scenario': 'weatherstation', 'study_area': {'data_root': './data/RH_small', 'end_time': '2021-02-02 00:00:00', 'frequency': '10min', 'lat': 52.306205367362864, 'long': 6.51767410810534, 'start_time': '2021-02-01 00:00:00', 'timezone': 'Europe/Amsterdam'}, 'voxel_resolution': 9}\n"
     ]
    }
   ],
   "source": [
    "with open(config_path, 'r') as file:\n",
    "    CONFIG = json.load(file)\n",
    "    print(CONFIG)\n",
    "\n",
    "\n",
    "folder_path = CONFIG['study_area']['data_root']\n",
    "data_root = os.path.join(folder_path, CONFIG['output_folder_name'])\n",
    "point_grid_path = os.path.join(data_root, 'intermediate', 'point_grid.dat')\n",
    "\n",
    "estimated_irradiance_path = os.path.join(data_root, 'irradiance.npy')\n",
    "simplified_irradiance_path = os.path.join(data_root, 'simplified_irradiance.npy')\n",
    "point_grid = np.loadtxt(point_grid_path)\n",
    "estimated_irradiance = np.load(estimated_irradiance_path)\n",
    "# simplified_irradiance = np.load(simplified_irradiance_path)\n",
    "\n",
    "# simplified_no_global = estimated_irradiance[0] + simplified_irradiance[2]"
   ]
  },
  {
   "cell_type": "code",
   "execution_count": 15,
   "metadata": {},
   "outputs": [],
   "source": [
    "point_coords = point_grid[:,:3] # x,y,z, nx, ny, nz, albedo, surface_type, surface_id\n"
   ]
  },
  {
   "cell_type": "code",
   "execution_count": 16,
   "metadata": {},
   "outputs": [],
   "source": [
    "bounce1_irradiance = estimated_irradiance[1]\n",
    "bounce1_irradiance = np.round(bounce1_irradiance/6, decimals=3) # unit is Wh/m2\n",
    "\n",
    "\n",
    "sum_irradiance = np.sum(bounce1_irradiance,axis=1).reshape(-1,1) # unit is Wh/m2\n",
    "sum_irradiance = np.round(sum_irradiance, decimals=3)\n",
    "\n",
    "# simplified_sum = np.sum(np.round(simplified_no_global/1000, decimals=3), axis=1).reshape(-1,1)\n",
    "# simplified_sum = np.round(simplified_sum, decimals=3)\n"
   ]
  },
  {
   "cell_type": "code",
   "execution_count": 17,
   "metadata": {},
   "outputs": [],
   "source": [
    "# point_grid_with_irradiance = np.hstack((point_coords,sum_irradiance, simplified_sum, bounce1_irradiance))\n",
    "point_grid_with_irradiance = np.hstack((point_coords,sum_irradiance))"
   ]
  },
  {
   "cell_type": "code",
   "execution_count": 18,
   "metadata": {},
   "outputs": [],
   "source": [
    "yeardaytime = CONFIG[\"study_area\"][\"start_time\"]"
   ]
  },
  {
   "cell_type": "code",
   "execution_count": 19,
   "metadata": {},
   "outputs": [],
   "source": [
    "dt = datetime.strptime(yeardaytime, '%Y-%m-%d %H:%M:%S')\n",
    "new_date_string = dt.strftime('%Y-%m-%d')\n",
    "result_path = f\"\"\"./data/figures/{city_name}_{new_date_string}_pc.txt\"\"\""
   ]
  },
  {
   "cell_type": "code",
   "execution_count": 20,
   "metadata": {},
   "outputs": [],
   "source": [
    "np.savetxt(result_path,point_grid_with_irradiance)"
   ]
  }
 ],
 "metadata": {
  "kernelspec": {
   "display_name": "energy",
   "language": "python",
   "name": "python3"
  },
  "language_info": {
   "codemirror_mode": {
    "name": "ipython",
    "version": 3
   },
   "file_extension": ".py",
   "mimetype": "text/x-python",
   "name": "python",
   "nbconvert_exporter": "python",
   "pygments_lexer": "ipython3",
   "version": "3.9.18"
  }
 },
 "nbformat": 4,
 "nbformat_minor": 2
}
