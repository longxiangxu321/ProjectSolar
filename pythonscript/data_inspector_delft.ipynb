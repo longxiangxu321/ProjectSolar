{
 "cells": [
  {
   "cell_type": "code",
   "execution_count": null,
   "metadata": {},
   "outputs": [],
   "source": [
    "import numpy as np\n",
    "import matplotlib.pyplot as plt\n",
    "from matplotlib.colors import ListedColormap\n",
    "import random\n",
    "import json\n",
    "import os"
   ]
  },
  {
   "cell_type": "code",
   "execution_count": null,
   "metadata": {},
   "outputs": [],
   "source": [
    "# %cd .."
   ]
  },
  {
   "cell_type": "code",
   "execution_count": null,
   "metadata": {},
   "outputs": [],
   "source": [
    "config_path = 'data/Heino_test/output_20240829_164635/voxel_resolution15_area9/config.json'"
   ]
  },
  {
   "cell_type": "code",
   "execution_count": null,
   "metadata": {},
   "outputs": [],
   "source": [
    "with open(config_path, 'r') as file:\n",
    "    CONFIG = json.load(file)\n",
    "    print(CONFIG)"
   ]
  },
  {
   "cell_type": "code",
   "execution_count": null,
   "metadata": {},
   "outputs": [],
   "source": [
    "folder_path = CONFIG['study_area']['data_root']\n",
    "data_root = os.path.join(folder_path, CONFIG['output_folder_name'])\n",
    "point_grid_path = os.path.join(data_root, 'intermediate', 'point_grid.dat')\n",
    "index_map_path = os.path.join(data_root,  'index_map.dat')\n",
    "shadow_map_path = os.path.join(data_root, 'shadow_map.dat')\n",
    "\n",
    "\n",
    "horizon_factor_path = os.path.join(data_root, 'horizon_factor_map.dat')\n",
    "sky_view_factor_path = os.path.join(data_root,  'sky_view_factor_map.dat')\n",
    "cosine_map_path = os.path.join(data_root, 'cosine_map.dat')\n",
    "\n",
    "voxel_size = CONFIG['voxel_resolution']\n",
    "num_azimuth = 360//CONFIG['azimuth_resolution']\n",
    "num_elevation = 90//CONFIG['elevation_resolution']\n",
    "print(num_azimuth, num_elevation)\n",
    "num_samples = num_azimuth*num_elevation\n",
    "index_dim = (num_elevation,num_azimuth)\n",
    "\n",
    "estimated_irradiance_path = os.path.join(data_root, 'irradiance.npy')\n",
    "weather_data_path = os.path.join(data_root, 'weather_data.npy')\n",
    "\n",
    "point_grid = np.loadtxt(point_grid_path)\n",
    "estimated_irradiance = np.load(estimated_irradiance_path)\n",
    "weather_data = np.load(weather_data_path)"
   ]
  },
  {
   "cell_type": "code",
   "execution_count": null,
   "metadata": {},
   "outputs": [],
   "source": [
    "def print_point_info(point_grid, horizon_factor_path, sky_view_factor_path, index_map_path, cosine_map_path, index_dim, point_idx):\n",
    "    horizon_factor_path = np.memmap(horizon_factor_path, dtype=np.float16, mode='r')\n",
    "    sky_view_factor_path = np.memmap(sky_view_factor_path, dtype=np.int32, mode='r')\n",
    "    index_map = np.memmap(index_map_path, dtype=np.uint32, mode='r')\n",
    "    # cosine_map = np.memmap(cosine_map_path, dtype=np.float16, mode='r')\n",
    "\n",
    "    num_samples = index_dim[0]*index_dim[1]\n",
    "    index_start = point_idx*num_samples\n",
    "    index_end = (point_idx+1)*num_samples\n",
    "\n",
    "    voxel_indices = index_map[index_start:index_end]\n",
    "    # breakpoint()\n",
    "    voxel_indices = voxel_indices.reshape(index_dim)\n",
    "    unique_values = np.unique(voxel_indices)\n",
    "\n",
    "    # sum_of_cosine = np.sum(cosine_map[index_start*6:index_end*6])\n",
    "    # print(\"sum of cosine: \", sum_of_cosine)\n",
    "\n",
    "    # 创建一个随机颜色映射，确保白色为最大值对应的颜色\n",
    "    colors = {}\n",
    "    for value in unique_values:\n",
    "        # print(value)\n",
    "        if value == 4294967295:\n",
    "            colors[value] = (1.0, 1.0, 1.0)  # 白色\n",
    "        else:\n",
    "            colors[value] = (random.random(), random.random(), random.random())\n",
    "\n",
    "    # 将图像数据转换为 RGB\n",
    "    image = np.zeros((voxel_indices.shape[0], voxel_indices.shape[1], 3))\n",
    "\n",
    "    for i in range(voxel_indices.shape[0]):\n",
    "        for j in range(voxel_indices.shape[1]):\n",
    "            image[i, j] = colors[voxel_indices[i, j]]\n",
    "\n",
    "    image = np.flipud(image)\n",
    "    plt.xticks(np.linspace(0, voxel_indices.shape[1] - 1, num=5), \n",
    "           labels=np.linspace(0, 360, num=5).astype(int))  # 横轴 azimuth 从 0 到 360 度\n",
    "\n",
    "    plt.yticks(np.linspace(0, voxel_indices.shape[0] - 1, num=4), \n",
    "            labels=np.linspace(90, 0, num=4).astype(int))  # 纵轴 elevation 从 0 到 90 度\n",
    "\n",
    "    # 添加坐标轴标签\n",
    "    plt.xlabel('Azimuth (degrees)')\n",
    "    plt.ylabel('Elevation (degrees)')\n",
    "\n",
    "    plt.imshow(image)\n",
    "    # plt.savefig('BK.png', bbox_inches='tight', pad_inches=0, dpi=300)\n",
    "    # plt.axis('off')  # 隐藏坐标轴\n",
    "    plt.show()\n",
    "\n",
    "    print(\"sky view factor: \", sky_view_factor_path[point_idx]/num_samples)\n",
    "    print(\"horizon factor: \", horizon_factor_path[point_idx])\n",
    "    formatted_values = [f\"{x:.5f}\" for x in point_grid[point_idx]]\n",
    "    print(\"point info: \", formatted_values)\n",
    "\n",
    "    \n",
    "\n"
   ]
  },
  {
   "cell_type": "code",
   "execution_count": null,
   "metadata": {},
   "outputs": [],
   "source": [
    "idx = "
   ]
  },
  {
   "cell_type": "code",
   "execution_count": null,
   "metadata": {},
   "outputs": [],
   "source": [
    "print_point_info(point_grid, horizon_factor_path, sky_view_factor_path, index_map_path, cosine_map_path, index_dim, idx)"
   ]
  },
  {
   "cell_type": "code",
   "execution_count": null,
   "metadata": {},
   "outputs": [],
   "source": [
    "plt.figure(figsize=(12, 8))\n",
    "\n",
    "for i in range(6):\n",
    "    plt.plot(estimated_irradiance[i][idx][0:8], label=f\"Bounce {i}\", marker='o')\n",
    "\n",
    "\n",
    "plt.plot(weather_data[:,0][0:8], label=\"Weather Data [:,0]\", marker='o')\n",
    "\n",
    "plt.xlabel(\"Index\")\n",
    "plt.ylabel(\"Value\")\n",
    "plt.title(\"Comparison of Estimated Irradiance and Weather Data\")\n",
    "plt.legend()\n",
    "plt.grid(True)\n",
    "plt.savefig('Heino_9_5_15.png', bbox_inches='tight', pad_inches=0, dpi=300)\n",
    "plt.show()"
   ]
  }
 ],
 "metadata": {
  "language_info": {
   "name": "python"
  }
 },
 "nbformat": 4,
 "nbformat_minor": 2
}
