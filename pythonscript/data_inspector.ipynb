{
 "cells": [
  {
   "cell_type": "code",
   "execution_count": 1,
   "metadata": {},
   "outputs": [],
   "source": [
    "import numpy as np\n",
    "import matplotlib.pyplot as plt\n",
    "from matplotlib.colors import ListedColormap\n",
    "import random\n",
    "import json\n",
    "import os"
   ]
  },
  {
   "cell_type": "code",
   "execution_count": 2,
   "metadata": {},
   "outputs": [
    {
     "name": "stdout",
     "output_type": "stream",
     "text": [
      "f:\\ProjectSolar\\ProjectSolar-20240704_v0\n"
     ]
    }
   ],
   "source": [
    "%cd .."
   ]
  },
  {
   "cell_type": "code",
   "execution_count": 3,
   "metadata": {},
   "outputs": [],
   "source": [
    "with open('config.json', 'r') as file:\n",
    "    CONFIG = json.load(file)"
   ]
  },
  {
   "cell_type": "code",
   "execution_count": 4,
   "metadata": {},
   "outputs": [
    {
     "name": "stdout",
     "output_type": "stream",
     "text": [
      "180 45\n"
     ]
    }
   ],
   "source": [
    "folder_path = CONFIG['study_area']['data_root']\n",
    "data_root = os.path.join(folder_path, CONFIG['output_folder_name'])\n",
    "point_grid_path = os.path.join(data_root, 'intermediate', 'point_grid.dat')\n",
    "index_map_path = os.path.join(data_root,  'index_map.dat')\n",
    "shadow_map_path = os.path.join(data_root, 'shadow_map.dat')\n",
    "\n",
    "\n",
    "horizon_factor_path = os.path.join(data_root, 'horizon_factor_map.dat')\n",
    "sky_view_factor_path = os.path.join(data_root,  'sky_view_factor_map.dat')\n",
    "cosine_map_path = os.path.join(data_root, 'cosine_map.dat')\n",
    "\n",
    "voxel_size = CONFIG['voxel_resolution']\n",
    "num_azimuth = 360//CONFIG['azimuth_resolution']\n",
    "num_elevation = 90//CONFIG['elevation_resolution']\n",
    "print(num_azimuth, num_elevation)\n",
    "num_samples = num_azimuth*num_elevation\n",
    "index_dim = (num_elevation,num_azimuth)\n",
    "\n",
    "estimated_irradiance_path = os.path.join(data_root, 'irradiance.npy')\n",
    "weather_data_path = os.path.join(data_root, 'weather_data.npy')"
   ]
  },
  {
   "cell_type": "code",
   "execution_count": 5,
   "metadata": {},
   "outputs": [],
   "source": [
    "point_grid = np.loadtxt(point_grid_path)\n",
    "estimated_irradiance = np.load(estimated_irradiance_path)\n",
    "weather_data = np.load(weather_data_path)"
   ]
  },
  {
   "cell_type": "code",
   "execution_count": 6,
   "metadata": {},
   "outputs": [
    {
     "data": {
      "text/plain": [
       "(2, 720505, 8)"
      ]
     },
     "execution_count": 6,
     "metadata": {},
     "output_type": "execute_result"
    }
   ],
   "source": [
    "estimated_irradiance.shape"
   ]
  },
  {
   "cell_type": "code",
   "execution_count": 7,
   "metadata": {},
   "outputs": [
    {
     "data": {
      "text/plain": [
       "(8, 3)"
      ]
     },
     "execution_count": 7,
     "metadata": {},
     "output_type": "execute_result"
    }
   ],
   "source": [
    "weather_data.shape"
   ]
  },
  {
   "cell_type": "code",
   "execution_count": 8,
   "metadata": {},
   "outputs": [
    {
     "data": {
      "text/plain": [
       "(720505, 9)"
      ]
     },
     "execution_count": 8,
     "metadata": {},
     "output_type": "execute_result"
    }
   ],
   "source": [
    "point_grid.shape"
   ]
  },
  {
   "cell_type": "code",
   "execution_count": 9,
   "metadata": {},
   "outputs": [],
   "source": [
    "def print_point_info(point_grid, horizon_factor_path, sky_view_factor_path, index_map_path, cosine_map_path, index_dim, point_idx):\n",
    "    horizon_factor_path = np.memmap(horizon_factor_path, dtype=np.float16, mode='r')\n",
    "    sky_view_factor_path = np.memmap(sky_view_factor_path, dtype=np.int32, mode='r')\n",
    "    index_map = np.memmap(index_map_path, dtype=np.uint32, mode='r')\n",
    "    cosine_map = np.memmap(cosine_map_path, dtype=np.float16, mode='r')\n",
    "\n",
    "    num_samples = index_dim[0]*index_dim[1]\n",
    "    index_start = point_idx*num_samples\n",
    "    index_end = (point_idx+1)*num_samples\n",
    "\n",
    "    voxel_indices = index_map[index_start:index_end]\n",
    "    # breakpoint()\n",
    "    voxel_indices = voxel_indices.reshape(index_dim)\n",
    "    unique_values = np.unique(voxel_indices)\n",
    "\n",
    "    sum_of_cosine = np.sum(cosine_map[index_start*6:index_end*6])\n",
    "    print(\"sum of cosine: \", sum_of_cosine)\n",
    "\n",
    "    # 创建一个随机颜色映射，确保白色为最大值对应的颜色\n",
    "    colors = {}\n",
    "    for value in unique_values:\n",
    "        # print(value)\n",
    "        if value == 4294967295:\n",
    "            colors[value] = (1.0, 1.0, 1.0)  # 白色\n",
    "        else:\n",
    "            colors[value] = (random.random(), random.random(), random.random())\n",
    "\n",
    "    # 将图像数据转换为 RGB\n",
    "    image = np.zeros((voxel_indices.shape[0], voxel_indices.shape[1], 3))\n",
    "\n",
    "    for i in range(voxel_indices.shape[0]):\n",
    "        for j in range(voxel_indices.shape[1]):\n",
    "            image[i, j] = colors[voxel_indices[i, j]]\n",
    "\n",
    "    image = np.flipud(image)\n",
    "    plt.imshow(image)\n",
    "    plt.axis('off')  # 隐藏坐标轴\n",
    "    plt.show()\n",
    "\n",
    "    print(\"sky view factor: \", sky_view_factor_path[point_idx]/num_samples)\n",
    "    print(\"horizon factor: \", horizon_factor_path[point_idx])\n",
    "    formatted_values = [f\"{x:.5f}\" for x in point_grid[point_idx]]\n",
    "    print(\"point info: \", formatted_values)"
   ]
  },
  {
   "cell_type": "code",
   "execution_count": 10,
   "metadata": {},
   "outputs": [
    {
     "data": {
      "text/plain": [
       "8100"
      ]
     },
     "execution_count": 10,
     "metadata": {},
     "output_type": "execute_result"
    }
   ],
   "source": [
    "index_dim[0]*index_dim[1]"
   ]
  },
  {
   "cell_type": "code",
   "execution_count": 16,
   "metadata": {},
   "outputs": [
    {
     "name": "stdout",
     "output_type": "stream",
     "text": [
      "sum of cosine:  255.2\n"
     ]
    },
    {
     "data": {
      "image/png": "[encoded data removed]",
      "text/plain": [
       "<Figure size 640x480 with 1 Axes>"
      ]
     },
     "metadata": {},
     "output_type": "display_data"
    },
    {
     "name": "stdout",
     "output_type": "stream",
     "text": [
      "sky view factor:  0.9766666666666667\n",
      "horizon factor:  nan\n",
      "point info:  ['214284.00000', '494443.00000', '5.05800', '0.00000', '0.00000', '1.00000', '0.10000', '1.00000', '720495.00000']\n"
     ]
    }
   ],
   "source": [
    "# idx= 740955 # weatherstation\n",
    "idx = 720495 # random\n",
    "print_point_info(point_grid, horizon_factor_path, sky_view_factor_path, index_map_path, cosine_map_path, index_dim, idx)"
   ]
  },
  {
   "cell_type": "code",
   "execution_count": 17,
   "metadata": {},
   "outputs": [
    {
     "data": {
      "text/plain": [
       "array([ 41.95188882,  96.05195686, 124.20901325, 130.39547534,\n",
       "       114.72621285,  71.01459846,  21.7206663 ,   1.95333338])"
      ]
     },
     "execution_count": 17,
     "metadata": {},
     "output_type": "execute_result"
    }
   ],
   "source": [
    "estimated_irradiance[0][idx]"
   ]
  },
  {
   "cell_type": "code",
   "execution_count": 18,
   "metadata": {},
   "outputs": [
    {
     "data": {
      "text/plain": [
       "array([ 45.53529664,  98.65483249, 126.08466649, 131.77183074,\n",
       "       115.625626  ,  71.58932641,  21.91011207,   1.97106295])"
      ]
     },
     "execution_count": 18,
     "metadata": {},
     "output_type": "execute_result"
    }
   ],
   "source": [
    "estimated_irradiance[1][idx]"
   ]
  },
  {
   "cell_type": "code",
   "execution_count": 19,
   "metadata": {},
   "outputs": [
    {
     "data": {
      "text/plain": [
       "array([ 68, 110, 133, 134, 114,  70,  22,   2], dtype=int64)"
      ]
     },
     "execution_count": 19,
     "metadata": {},
     "output_type": "execute_result"
    }
   ],
   "source": [
    "weather_data[:,0]"
   ]
  }
 ],
 "metadata": {
  "kernelspec": {
   "display_name": "energy",
   "language": "python",
   "name": "python3"
  },
  "language_info": {
   "codemirror_mode": {
    "name": "ipython",
    "version": 3
   },
   "file_extension": ".py",
   "mimetype": "text/x-python",
   "name": "python",
   "nbconvert_exporter": "python",
   "pygments_lexer": "ipython3",
   "version": "3.9.18"
  }
 },
 "nbformat": 4,
 "nbformat_minor": 2
}
