{
 "cells": [
  {
   "cell_type": "code",
   "execution_count": 1,
   "metadata": {},
   "outputs": [],
   "source": [
    "import numpy as np\n",
    "import matplotlib.pyplot as plt\n",
    "from matplotlib.colors import ListedColormap\n",
    "import random\n",
    "import json\n",
    "import os"
   ]
  },
  {
   "cell_type": "code",
   "execution_count": 2,
   "metadata": {},
   "outputs": [],
   "source": [
    "with open('config.json', 'r') as file:\n",
    "    CONFIG = json.load(file)"
   ]
  },
  {
   "cell_type": "code",
   "execution_count": 3,
   "metadata": {},
   "outputs": [
    {
     "name": "stdout",
     "output_type": "stream",
     "text": [
      "180 45\n"
     ]
    }
   ],
   "source": [
    "folder_path = CONFIG['study_area']['data_root']\n",
    "data_root = os.path.join(folder_path, CONFIG['output_folder_name'])\n",
    "point_grid_path = os.path.join(data_root, 'intermediate', 'point_grid.dat')\n",
    "index_map_path = os.path.join(data_root,  'index_map.dat')\n",
    "shadow_map_path = os.path.join(data_root, 'shadow_map.dat')\n",
    "\n",
    "azimuth_map_path = os.path.join(data_root,  'azimuth_map.dat')\n",
    "elevation_map_path = os.path.join(data_root, 'elevation_map.dat')\n",
    "\n",
    "horizon_factor_path = os.path.join(data_root, 'horizon_factor_map.dat')\n",
    "sky_view_factor_path = os.path.join(data_root,  'sky_view_factor_map.dat')\n",
    "\n",
    "voxel_size = CONFIG['voxel_resolution']\n",
    "num_azimuth = 360//CONFIG['azimuth_resolution']\n",
    "num_elevation = 90//CONFIG['elevation_resolution']\n",
    "print(num_azimuth, num_elevation)\n",
    "num_samples = num_azimuth*num_elevation\n",
    "index_dim = (num_elevation,num_azimuth)"
   ]
  },
  {
   "cell_type": "code",
   "execution_count": 4,
   "metadata": {},
   "outputs": [],
   "source": [
    "point_grid = np.loadtxt(point_grid_path)\n",
    "horizon_factor_path = np.memmap(horizon_factor_path, dtype=np.float16, mode='r')\n",
    "sky_view_factor_path = np.memmap(sky_view_factor_path, dtype=np.int32, mode='r')\n",
    "\n",
    "index_map = np.memmap(index_map_path, dtype=np.uint32, mode='r')\n",
    "azimuth_map = np.memmap(azimuth_map_path, dtype=np.float16, mode='r')\n",
    "elevation_map = np.memmap(elevation_map_path, dtype=np.float16, mode='r')"
   ]
  },
  {
   "cell_type": "code",
   "execution_count": 35,
   "metadata": {},
   "outputs": [
    {
     "data": {
      "image/png": "[encoded data removed]",
      "text/plain": [
       "<Figure size 640x480 with 1 Axes>"
      ]
     },
     "metadata": {},
     "output_type": "display_data"
    },
    {
     "name": "stdout",
     "output_type": "stream",
     "text": [
      "sky view factor:  0.975679012345679\n",
      "horizon factor:  1.87\n",
      "point info:  ['214483.00000', '494246.00000', '3.10328', '-0.00090', '0.09990', '0.99500', '3.00000']\n"
     ]
    }
   ],
   "source": [
    "point_idx = 646299\n",
    "\n",
    "index_start = point_idx*num_samples\n",
    "index_end = (point_idx+1)*num_samples\n",
    "\n",
    "voxel_indices = index_map[index_start:index_end]\n",
    "voxel_indices = voxel_indices.reshape(index_dim)\n",
    "unique_values = np.unique(voxel_indices)\n",
    "\n",
    "# 创建一个随机颜色映射，确保白色为最大值对应的颜色\n",
    "colors = {}\n",
    "for value in unique_values:\n",
    "    # print(value)\n",
    "    if value == 4294967295:\n",
    "        colors[value] = (1.0, 1.0, 1.0)  # 白色\n",
    "    else:\n",
    "        colors[value] = (random.random(), random.random(), random.random())\n",
    "\n",
    "# 将图像数据转换为 RGB\n",
    "image = np.zeros((voxel_indices.shape[0], voxel_indices.shape[1], 3))\n",
    "\n",
    "for i in range(voxel_indices.shape[0]):\n",
    "    for j in range(voxel_indices.shape[1]):\n",
    "        image[i, j] = colors[voxel_indices[i, j]]\n",
    "\n",
    "image = np.flipud(image)\n",
    "plt.imshow(image)\n",
    "plt.axis('off')  # 隐藏坐标轴\n",
    "plt.show()\n",
    "\n",
    "print(\"sky view factor: \", sky_view_factor_path[point_idx]/num_samples)\n",
    "print(\"horizon factor: \", horizon_factor_path[point_idx])\n",
    "formatted_values = [f\"{x:.5f}\" for x in point_grid[point_idx]]\n",
    "print(\"point info: \", formatted_values)\n"
   ]
  },
  {
   "cell_type": "code",
   "execution_count": null,
   "metadata": {},
   "outputs": [],
   "source": []
  }
 ],
 "metadata": {
  "kernelspec": {
   "display_name": "energy",
   "language": "python",
   "name": "python3"
  },
  "language_info": {
   "codemirror_mode": {
    "name": "ipython",
    "version": 3
   },
   "file_extension": ".py",
   "mimetype": "text/x-python",
   "name": "python",
   "nbconvert_exporter": "python",
   "pygments_lexer": "ipython3",
   "version": "3.9.18"
  }
 },
 "nbformat": 4,
 "nbformat_minor": 2
}
