{
 "cells": [
  {
   "cell_type": "code",
   "execution_count": 1,
   "metadata": {},
   "outputs": [],
   "source": [
    "import numpy as np\n",
    "import matplotlib.pyplot as plt\n",
    "from matplotlib.colors import ListedColormap\n",
    "import random"
   ]
  },
  {
   "cell_type": "code",
   "execution_count": 2,
   "metadata": {},
   "outputs": [],
   "source": [
    "point_grid_path = \"./out/build/grid_points.dat\"\n",
    "index_map_path = \"./out/build/index_map.dat\"\n",
    "shadow_map_path = \"./out/build/shadow_map.dat\"\n",
    "\n",
    "azimuth_map_path = \"./out/build/azimuth_map.dat\"\n",
    "elevation_map_path = \"./out/build/elevation_map.dat\"\n",
    "\n",
    "horizon_factor_path = \"./out/build/horizon_factor_map.dat\"\n",
    "sky_view_factor_path = \"./out/build/sky_view_factor_map.dat\""
   ]
  },
  {
   "cell_type": "code",
   "execution_count": 3,
   "metadata": {},
   "outputs": [],
   "source": [
    "point_grid = np.loadtxt(point_grid_path)\n",
    "horizon_factor_path = np.memmap(horizon_factor_path, dtype=np.float16, mode='r')\n",
    "sky_view_factor_path = np.memmap(sky_view_factor_path, dtype=np.int32, mode='r')\n",
    "\n",
    "index_map = np.memmap(index_map_path, dtype=np.uint32, mode='r')\n",
    "azimuth_map = np.memmap(azimuth_map_path, dtype=np.float16, mode='r')\n",
    "elevation_map = np.memmap(elevation_map_path, dtype=np.float16, mode='r')"
   ]
  },
  {
   "cell_type": "code",
   "execution_count": 4,
   "metadata": {},
   "outputs": [],
   "source": [
    "voxel_dim = (587,590,50)\n",
    "voxel_size = 2.0\n",
    "num_samples = 360*90\n",
    "index_dim = (90,360)"
   ]
  },
  {
   "cell_type": "code",
   "execution_count": 6,
   "metadata": {},
   "outputs": [
    {
     "data": {
      "image/png": "[encoded data removed]",
      "text/plain": [
       "<Figure size 640x480 with 1 Axes>"
      ]
     },
     "metadata": {},
     "output_type": "display_data"
    },
    {
     "name": "stdout",
     "output_type": "stream",
     "text": [
      "sky view factor:  0.2028395061728395\n",
      "horizon factor:  0.0\n",
      "point info:  ['84710.50000', '445936.00000', '0.37267', '-0.30203', '0.95330', '0.00000', '0.00000']\n"
     ]
    }
   ],
   "source": [
    "point_idx = 19502\n",
    "\n",
    "index_start = point_idx*num_samples\n",
    "index_end = (point_idx+1)*num_samples\n",
    "\n",
    "voxel_indices = index_map[index_start:index_end]\n",
    "voxel_indices = voxel_indices.reshape(index_dim)\n",
    "unique_values = np.unique(voxel_indices)\n",
    "\n",
    "# 创建一个随机颜色映射，确保白色为最大值对应的颜色\n",
    "colors = {}\n",
    "for value in unique_values:\n",
    "    if value == np.iinfo(np.uint32).max:\n",
    "        colors[value] = (1.0, 1.0, 1.0)  # 白色\n",
    "    else:\n",
    "        colors[value] = (random.random(), random.random(), random.random())\n",
    "\n",
    "# 将图像数据转换为 RGB\n",
    "image = np.zeros((voxel_indices.shape[0], voxel_indices.shape[1], 3))\n",
    "\n",
    "for i in range(voxel_indices.shape[0]):\n",
    "    for j in range(voxel_indices.shape[1]):\n",
    "        image[i, j] = colors[voxel_indices[i, j]]\n",
    "\n",
    "image = np.flipud(image)\n",
    "plt.imshow(image)\n",
    "plt.axis('off')  # 隐藏坐标轴\n",
    "plt.show()\n",
    "\n",
    "print(\"sky view factor: \", sky_view_factor_path[point_idx]/num_samples)\n",
    "print(\"horizon factor: \", horizon_factor_path[point_idx])\n",
    "formatted_values = [f\"{x:.5f}\" for x in point_grid[point_idx]]\n",
    "print(\"point info: \", formatted_values)\n"
   ]
  },
  {
   "cell_type": "code",
   "execution_count": null,
   "metadata": {},
   "outputs": [],
   "source": []
  }
 ],
 "metadata": {
  "kernelspec": {
   "display_name": "energy",
   "language": "python",
   "name": "python3"
  },
  "language_info": {
   "codemirror_mode": {
    "name": "ipython",
    "version": 3
   },
   "file_extension": ".py",
   "mimetype": "text/x-python",
   "name": "python",
   "nbconvert_exporter": "python",
   "pygments_lexer": "ipython3",
   "version": "3.9.18"
  }
 },
 "nbformat": 4,
 "nbformat_minor": 2
}
